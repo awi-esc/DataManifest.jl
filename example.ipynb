{
 "cells": [
  {
   "cell_type": "code",
   "execution_count": 1,
   "metadata": {},
   "outputs": [
    {
     "name": "stderr",
     "output_type": "stream",
     "text": [
      "\u001b[32m\u001b[1m  Activating\u001b[22m\u001b[39m project at `~/awi-esc/Datasets`\n"
     ]
    }
   ],
   "source": [
    "using Pkg\n",
    "Pkg.activate(\".\")\n",
    "using Datasets"
   ]
  },
  {
   "cell_type": "code",
   "execution_count": 2,
   "metadata": {},
   "outputs": [],
   "source": [
    "Datasets.DATASETS = Dict()\n",
    "Datasets.DATASETS_PATH = \"datasets-test\"\n",
    "rm(\"datasets-test\"; force=true, recursive=true)"
   ]
  },
  {
   "cell_type": "code",
   "execution_count": 3,
   "metadata": {},
   "outputs": [
    {
     "data": {
      "text/plain": [
       "Dict{Any, Any} with 3 entries:\n",
       "  \"herzschuh2023\" => Dict{String, Any}(\"downloads\"=>[\"https://doi.pangaea.de/10…\n",
       "  \"jonkers2024\"   => Dict{String, Any}(\"downloads\"=>[\"https://download.pangaea.…\n",
       "  \"tierney2020\"   => Dict{String, Any}(\"aliases\"=>AbstractString[\"jesstierney/l…"
      ]
     },
     "metadata": {},
     "output_type": "display_data"
    }
   ],
   "source": [
    "register_dataset(\"herzschuh2023\"; doi=\"10.1594/PANGAEA.930512\",\n",
    "    downloads=[\"https://doi.pangaea.de/10.1594/PANGAEA.930512?format=zip\"],\n",
    ")\n",
    "\n",
    "register_dataset(\"jonkers2024\"; doi=\"10.1594/PANGAEA.962852\",\n",
    "    downloads=[\"https://download.pangaea.de/dataset/962852/files/LGM_foraminifera_assemblages_20240110.csv\"],\n",
    ")\n",
    "\n",
    "register_repository(\"git@github.com:jesstierney/lgmDA.git\"; name=\"tierney2020\", ref=\"v2.1\")\n",
    "\n",
    "DATASETS"
   ]
  },
  {
   "cell_type": "code",
   "execution_count": 4,
   "metadata": {},
   "outputs": [
    {
     "name": "stdout",
     "output_type": "stream",
     "text": [
      "[herzschuh2023]\n",
      "downloads = [\"https://doi.pangaea.de/10.1594/PANGAEA.930512?format=zip\"]\n",
      "doi = \"10.1594/PANGAEA.930512\"\n",
      "\n",
      "[jonkers2024]\n",
      "downloads = [\"https://download.pangaea.de/dataset/962852/files/LGM_foraminifera_assemblages_20240110.csv\"]\n",
      "doi = \"10.1594/PANGAEA.962852\"\n",
      "\n",
      "[tierney2020]\n",
      "aliases = [\"jesstierney/lgmDA\", \"lgmDA\"]\n",
      "remote = \"git@github.com:jesstierney/lgmDA.git\"\n",
      "type = \"git\"\n",
      "ref = \"v2.1\"\n"
     ]
    }
   ],
   "source": [
    "import TOML\n",
    "TOML.print(Datasets._clean_datasets(DATASETS))"
   ]
  },
  {
   "cell_type": "code",
   "execution_count": 5,
   "metadata": {},
   "outputs": [],
   "source": [
    "write_datasets_toml(\"test.toml\")"
   ]
  },
  {
   "cell_type": "code",
   "execution_count": 6,
   "metadata": {},
   "outputs": [
    {
     "name": "stdout",
     "output_type": "stream",
     "text": [
      "[herzschuh2023]\n",
      "downloads = [\"https://doi.pangaea.de/10.1594/PANGAEA.930512?format=zip\"]\n",
      "doi = \"10.1594/PANGAEA.930512\"\n",
      "\n",
      "[jonkers2024]\n",
      "downloads = [\"https://download.pangaea.de/dataset/962852/files/LGM_foraminifera_assemblages_20240110.csv\"]\n",
      "doi = \"10.1594/PANGAEA.962852\"\n",
      "\n",
      "[tierney2020]\n",
      "aliases = [\"jesstierney/lgmDA\", \"lgmDA\"]\n",
      "remote = \"git@github.com:jesstierney/lgmDA.git\"\n",
      "type = \"git\"\n",
      "ref = \"v2.1\"\n"
     ]
    }
   ],
   "source": [
    "run(`cat test.toml`);"
   ]
  },
  {
   "cell_type": "code",
   "execution_count": 7,
   "metadata": {},
   "outputs": [
    {
     "data": {
      "text/plain": [
       "true"
      ]
     },
     "metadata": {},
     "output_type": "display_data"
    }
   ],
   "source": [
    "other = Dict()\n",
    "register_datasets(\"test.toml\"; datasets=other)\n",
    "other == DATASETS"
   ]
  },
  {
   "cell_type": "code",
   "execution_count": 8,
   "metadata": {},
   "outputs": [
    {
     "name": "stdout",
     "output_type": "stream",
     "text": [
      "Archive:  datasets-test/10.1594/PANGAEA.930512/PANGAEA.930512?format=zip\n",
      "  inflating: datasets-test/10.1594/PANGAEA.930512/datasets/Herzschuh-etal_2021_climate-recons_Asia.tab  \n",
      "  inflating: datasets-test/10.1594/PANGAEA.930512/datasets/Herzschuh-etal_2021_climate-recons_ENAmerica.tab  \n",
      "  inflating: datasets-test/10.1594/PANGAEA.930512/datasets/Herzschuh-etal_2021_climate-recons_Europe.tab  \n",
      "  inflating: datasets-test/10.1594/PANGAEA.930512/datasets/Herzschuh-etal_2021_climate-recons_WNAmerica.tab  \n",
      "  inflating: datasets-test/10.1594/PANGAEA.930512/datasets/Herzschuh-etal_2021_climate-recons-model-stats_Asia.tab  \n",
      "  inflating: datasets-test/10.1594/PANGAEA.930512/datasets/Herzschuh-etal_2021_climate-recons-model-stats_ENAmerica.tab  \n",
      "  inflating: datasets-test/10.1594/PANGAEA.930512/datasets/Herzschuh-etal_2021_climate-recons-model-stats_Europe.tab  \n",
      "  inflating: datasets-test/10.1594/PANGAEA.930512/datasets/Herzschuh-etal_2021_climate-recons-model-stats_WNAmerica.tab  \n",
      "  inflating: datasets-test/10.1594/PANGAEA.930512/datasets/Herzschuh-etal_2021_climate-recons-signif_Asia.tab  \n",
      "  inflating: datasets-test/10.1594/PANGAEA.930512/datasets/Herzschuh-etal_2021_climate-recons-signif_ENAmerica.tab  \n",
      "  inflating: datasets-test/10.1594/PANGAEA.930512/datasets/Herzschuh-etal_2021_climate-recons-signif_Europe.tab  \n",
      "  inflating: datasets-test/10.1594/PANGAEA.930512/datasets/Herzschuh-etal_2021_climate-recons-signif_WNAmerica.tab  \n",
      "  inflating: datasets-test/10.1594/PANGAEA.930512/summary.txt  \n"
     ]
    },
    {
     "name": "stderr",
     "output_type": "stream",
     "text": [
      "Cloning into 'datasets-test/github.com/jesstierney/lgmDA/v2.1'...\n"
     ]
    },
    {
     "name": "stdout",
     "output_type": "stream",
     "text": [
      "HEAD is now at 8eb77f2 readme\n"
     ]
    }
   ],
   "source": [
    "download_datasets()"
   ]
  },
  {
   "cell_type": "code",
   "execution_count": 9,
   "metadata": {},
   "outputs": [
    {
     "name": "stdout",
     "output_type": "stream",
     "text": [
      "datasets-test\n",
      "datasets-test/github.com\n",
      "datasets-test/github.com/jesstierney\n",
      "datasets-test/github.com/jesstierney/lgmDA\n",
      "datasets-test/github.com/jesstierney/lgmDA/v2.1\n",
      "datasets-test/github.com/jesstierney/lgmDA/v2.1/LICENSE\n",
      "datasets-test/github.com/jesstierney/lgmDA/v2.1/lgmMap.jpg\n",
      "datasets-test/github.com/jesstierney/lgmDA/v2.1/version2.1\n",
      "datasets-test/github.com/jesstierney/lgmDA/v2.1/version2.1/lgmDAv21_README.pdf\n",
      "datasets-test/github.com/jesstierney/lgmDA/v2.1/version2.1/lgmDA_hol_ATM_annual.nc\n",
      "datasets-test/github.com/jesstierney/lgmDA/v2.1/version2.1/lgmDA_lgm_SST_monthly_climo.nc\n",
      "datasets-test/github.com/jesstierney/lgmDA/v2.1/version2.1/lgmDA_hol_ATM_monthly_climo.nc\n",
      "datasets-test/github.com/jesstierney/lgmDA/v2.1/version2.1/lgmDA_hol_Ocn_annual.nc\n",
      "datasets-test/github.com/jesstierney/lgmDA/v2.1/version2.1/lgmDA_lgm_Ocn_annual.nc\n",
      "datasets-test/github.com/jesstierney/lgmDA/v2.1/version2.1/lgmDA_lgm_ATM_monthly_climo.nc\n",
      "datasets-test/github.com/jesstierney/lgmDA/v2.1/version2.1/lgmDA_hol_SST_monthly_climo.nc\n",
      "datasets-test/github.com/jesstierney/lgmDA/v2.1/version2.1/lgmDA_lgm_ATM_annual.nc\n",
      "datasets-test/github.com/jesstierney/lgmDA/v2.1/proxyData\n",
      "datasets-test/github.com/jesstierney/lgmDA/v2.1/proxyData/Tierney2020_ProxyDataPaired.csv\n",
      "datasets-test/github.com/jesstierney/lgmDA/v2.1/proxyData/Tierney2020_LHProxyData.csv\n",
      "datasets-test/github.com/jesstierney/lgmDA/v2.1/proxyData/Tierney2020_LGMProxyData.csv\n",
      "datasets-test/github.com/jesstierney/lgmDA/v2.1/proxyData/Tierney2020_ProxyData_5x5_deltaSST.nc\n",
      "datasets-test/github.com/jesstierney/lgmDA/v2.1/version2.0\n",
      "datasets-test/github.com/jesstierney/lgmDA/v2.1/version2.0/lgmDA_hol_ATM_annual.nc\n",
      "datasets-test/github.com/jesstierney/lgmDA/v2.1/version2.0/lgmDA_lgm_SST_monthly_climo.nc\n",
      "datasets-test/github.com/jesstierney/lgmDA/v2.1/version2.0/lgmDA_hol_ATM_monthly_climo.nc\n",
      "datasets-test/github.com/jesstierney/lgmDA/v2.1/version2.0/lgmDA_hol_Ocn_annual.nc\n",
      "datasets-test/github.com/jesstierney/lgmDA/v2.1/version2.0/lgmDA_lgm_Ocn_annual.nc\n",
      "datasets-test/github.com/jesstierney/lgmDA/v2.1/version2.0/lgmDAv2_README.pdf\n",
      "datasets-test/github.com/jesstierney/lgmDA/v2.1/version2.0/lgmDA_lgm_ATM_monthly_climo.nc\n",
      "datasets-test/github.com/jesstierney/lgmDA/v2.1/version2.0/lgmDA_hol_SST_monthly_climo.nc\n",
      "datasets-test/github.com/jesstierney/lgmDA/v2.1/version2.0/lgmDA_lgm_ATM_annual.nc\n",
      "datasets-test/github.com/jesstierney/lgmDA/v2.1/README.md\n",
      "datasets-test/github.com/jesstierney/lgmDA/v2.1/.gitignore\n",
      "datasets-test/github.com/jesstierney/lgmDA/v2.1/.git\n",
      "datasets-test/github.com/jesstierney/lgmDA/v2.1/.git/ORIG_HEAD\n",
      "datasets-test/github.com/jesstierney/lgmDA/v2.1/.git/description\n",
      "datasets-test/github.com/jesstierney/lgmDA/v2.1/.git/logs\n",
      "datasets-test/github.com/jesstierney/lgmDA/v2.1/.git/logs/refs\n",
      "datasets-test/github.com/jesstierney/lgmDA/v2.1/.git/logs/refs/heads\n",
      "datasets-test/github.com/jesstierney/lgmDA/v2.1/.git/logs/refs/heads/master\n",
      "datasets-test/github.com/jesstierney/lgmDA/v2.1/.git/logs/refs/remotes\n",
      "datasets-test/github.com/jesstierney/lgmDA/v2.1/.git/logs/refs/remotes/origin\n",
      "datasets-test/github.com/jesstierney/lgmDA/v2.1/.git/logs/refs/remotes/origin/HEAD\n",
      "datasets-test/github.com/jesstierney/lgmDA/v2.1/.git/logs/HEAD\n",
      "datasets-test/github.com/jesstierney/lgmDA/v2.1/.git/hooks\n",
      "datasets-test/github.com/jesstierney/lgmDA/v2.1/.git/hooks/fsmonitor-watchman.sample\n",
      "datasets-test/github.com/jesstierney/lgmDA/v2.1/.git/hooks/pre-commit.sample\n",
      "datasets-test/github.com/jesstierney/lgmDA/v2.1/.git/hooks/update.sample\n",
      "datasets-test/github.com/jesstierney/lgmDA/v2.1/.git/hooks/push-to-checkout.sample\n",
      "datasets-test/github.com/jesstierney/lgmDA/v2.1/.git/hooks/applypatch-msg.sample\n",
      "datasets-test/github.com/jesstierney/lgmDA/v2.1/.git/hooks/pre-push.sample\n",
      "datasets-test/github.com/jesstierney/lgmDA/v2.1/.git/hooks/pre-applypatch.sample\n",
      "datasets-test/github.com/jesstierney/lgmDA/v2.1/.git/hooks/pre-rebase.sample\n",
      "datasets-test/github.com/jesstierney/lgmDA/v2.1/.git/hooks/prepare-commit-msg.sample\n",
      "datasets-test/github.com/jesstierney/lgmDA/v2.1/.git/hooks/pre-merge-commit.sample\n",
      "datasets-test/github.com/jesstierney/lgmDA/v2.1/.git/hooks/commit-msg.sample\n",
      "datasets-test/github.com/jesstierney/lgmDA/v2.1/.git/hooks/pre-receive.sample\n",
      "datasets-test/github.com/jesstierney/lgmDA/v2.1/.git/hooks/post-update.sample\n",
      "datasets-test/github.com/jesstierney/lgmDA/v2.1/.git/refs\n",
      "datasets-test/github.com/jesstierney/lgmDA/v2.1/.git/refs/heads\n",
      "datasets-test/github.com/jesstierney/lgmDA/v2.1/.git/refs/heads/master\n",
      "datasets-test/github.com/jesstierney/lgmDA/v2.1/.git/refs/tags\n",
      "datasets-test/github.com/jesstierney/lgmDA/v2.1/.git/refs/remotes\n",
      "datasets-test/github.com/jesstierney/lgmDA/v2.1/.git/refs/remotes/origin\n",
      "datasets-test/github.com/jesstierney/lgmDA/v2.1/.git/refs/remotes/origin/HEAD\n",
      "datasets-test/github.com/jesstierney/lgmDA/v2.1/.git/packed-refs\n",
      "datasets-test/github.com/jesstierney/lgmDA/v2.1/.git/objects\n",
      "datasets-test/github.com/jesstierney/lgmDA/v2.1/.git/objects/pack\n",
      "datasets-test/github.com/jesstierney/lgmDA/v2.1/.git/objects/pack/pack-611ca34354c373c152f0850b0a88f91c866ea792.idx\n",
      "datasets-test/github.com/jesstierney/lgmDA/v2.1/.git/objects/pack/pack-611ca34354c373c152f0850b0a88f91c866ea792.pack\n",
      "datasets-test/github.com/jesstierney/lgmDA/v2.1/.git/objects/info\n",
      "datasets-test/github.com/jesstierney/lgmDA/v2.1/.git/index\n",
      "datasets-test/github.com/jesstierney/lgmDA/v2.1/.git/config\n",
      "datasets-test/github.com/jesstierney/lgmDA/v2.1/.git/branches\n",
      "datasets-test/github.com/jesstierney/lgmDA/v2.1/.git/HEAD\n",
      "datasets-test/github.com/jesstierney/lgmDA/v2.1/.git/info\n",
      "datasets-test/github.com/jesstierney/lgmDA/v2.1/.git/info/exclude\n",
      "datasets-test/github.com/jesstierney/lgmDA/v2.1/version1.0\n",
      "datasets-test/github.com/jesstierney/lgmDA/v2.1/version1.0/Tierney2020_DA_atm.nc\n",
      "datasets-test/github.com/jesstierney/lgmDA/v2.1/version1.0/Tierney2020_DA_ocn.nc\n",
      "datasets-test/github.com/jesstierney/lgmDA/v2.1/version1.0/Tierney2020_DA_ocn_regrid.nc\n",
      "datasets-test/10.1594\n",
      "datasets-test/10.1594/PANGAEA.962852\n",
      "datasets-test/10.1594/PANGAEA.962852/LGM_foraminifera_assemblages_20240110.csv\n",
      "datasets-test/10.1594/PANGAEA.930512\n",
      "datasets-test/10.1594/PANGAEA.930512/datasets\n",
      "datasets-test/10.1594/PANGAEA.930512/datasets/Herzschuh-etal_2021_climate-recons-signif_WNAmerica.tab\n",
      "datasets-test/10.1594/PANGAEA.930512/datasets/Herzschuh-etal_2021_climate-recons_ENAmerica.tab\n",
      "datasets-test/10.1594/PANGAEA.930512/datasets/Herzschuh-etal_2021_climate-recons_Europe.tab\n",
      "datasets-test/10.1594/PANGAEA.930512/datasets/Herzschuh-etal_2021_climate-recons-model-stats_WNAmerica.tab\n",
      "datasets-test/10.1594/PANGAEA.930512/datasets/Herzschuh-etal_2021_climate-recons-signif_ENAmerica.tab\n",
      "datasets-test/10.1594/PANGAEA.930512/datasets/Herzschuh-etal_2021_climate-recons-model-stats_Asia.tab\n",
      "datasets-test/10.1594/PANGAEA.930512/datasets/Herzschuh-etal_2021_climate-recons-signif_Europe.tab\n",
      "datasets-test/10.1594/PANGAEA.930512/datasets/Herzschuh-etal_2021_climate-recons-signif_Asia.tab\n",
      "datasets-test/10.1594/PANGAEA.930512/datasets/Herzschuh-etal_2021_climate-recons-model-stats_Europe.tab\n",
      "datasets-test/10.1594/PANGAEA.930512/datasets/Herzschuh-etal_2021_climate-recons_Asia.tab\n",
      "datasets-test/10.1594/PANGAEA.930512/datasets/Herzschuh-etal_2021_climate-recons-model-stats_ENAmerica.tab\n",
      "datasets-test/10.1594/PANGAEA.930512/datasets/Herzschuh-etal_2021_climate-recons_WNAmerica.tab\n",
      "datasets-test/10.1594/PANGAEA.930512/PANGAEA.930512?format=zip\n",
      "datasets-test/10.1594/PANGAEA.930512/summary.txt\n"
     ]
    },
    {
     "data": {
      "text/plain": [
       "Process(`\u001b[4mfind\u001b[24m \u001b[4mdatasets-test\u001b[24m`, ProcessExited(0))"
      ]
     },
     "metadata": {},
     "output_type": "display_data"
    }
   ],
   "source": [
    "run(`find datasets-test`)"
   ]
  }
 ],
 "metadata": {
  "kernelspec": {
   "display_name": "Julia 1.11.3",
   "language": "julia",
   "name": "julia-1.11"
  },
  "language_info": {
   "file_extension": ".jl",
   "mimetype": "application/julia",
   "name": "julia",
   "version": "1.11.3"
  }
 },
 "nbformat": 4,
 "nbformat_minor": 2
}
