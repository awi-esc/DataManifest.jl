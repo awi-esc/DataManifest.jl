{
 "cells": [
  {
   "cell_type": "code",
   "execution_count": 1,
   "metadata": {},
   "outputs": [
    {
     "name": "stderr",
     "output_type": "stream",
     "text": [
      "\u001b[32m\u001b[1m  Activating\u001b[22m\u001b[39m project at `~/Projects/Datasets.jl`\n"
     ]
    }
   ],
   "source": [
    "# using Revise\n",
    "using Pkg\n",
    "Pkg.activate(\".\")\n",
    "using Datasets: Database, DatasetEntry, register_dataset, download_dataset, download_datasets, string_short, repr_short, get_dataset_path"
   ]
  },
  {
   "cell_type": "code",
   "execution_count": 2,
   "metadata": {},
   "outputs": [
    {
     "data": {
      "text/plain": [
       "Database(\n",
       "  datasets=Dict(\n",
       "    CMIP6_lgm_tos => DatasetEntry(uri=\"ssh:/albedo1.dmawi.de:/albedo/work/projects...),\n",
       "    herzschuh2023 => DatasetEntry(uri=\"https:/doi.pangaea.de/10.1594...),\n",
       "    jonkers2024 => DatasetEntry(uri=\"https:/download.pangaea.de/dataset/962852/files...),\n",
       "    tierney2020 => DatasetEntry(uri=\"git@github.com:jesstierney/lgmDA.git\"...),\n",
       "  ),\n",
       "  datasets_path=\"/home/perrette/.cache/Datasets\"\n",
       ")"
      ]
     },
     "metadata": {},
     "output_type": "display_data"
    }
   ],
   "source": [
    "Database(\"example.toml\")"
   ]
  },
  {
   "cell_type": "code",
   "execution_count": 3,
   "metadata": {},
   "outputs": [
    {
     "data": {
      "text/plain": [
       "Database(\n",
       "  datasets=Dict(\n",
       "  ),\n",
       "  datasets_path=\"datasets-test\"\n",
       ")"
      ]
     },
     "metadata": {},
     "output_type": "display_data"
    }
   ],
   "source": [
    "db = Database(datasets_path=\"datasets-test\")\n",
    "rm(\"datasets-test\"; force=true, recursive=true)\n",
    "db"
   ]
  },
  {
   "cell_type": "code",
   "execution_count": 4,
   "metadata": {},
   "outputs": [
    {
     "name": "stdout",
     "output_type": "stream",
     "text": [
      "Database:\n",
      "- CMIP6_lgm_tos => albedo1.dmawi.de/albedo/work/projects/p_forclima/preproc_data...\n",
      "- herzschuh2023 => doi.pangaea.de/10.1594/PANGAEA.930512\n",
      "- jonkers2024 => download.pangaea.de/dataset/962852/files/LGM_foraminifera_assem...\n",
      "- jesstierney/lgmDA => github.com/jesstierney/lgmDA.git\n",
      "datasets_path: datasets-test\n"
     ]
    }
   ],
   "source": [
    "register_dataset(db, \"https://doi.pangaea.de/10.1594/PANGAEA.930512?format=zip\";\n",
    "    name=\"herzschuh2023\",\n",
    "    doi=\"10.1594/PANGAEA.930512\",\n",
    ")\n",
    "\n",
    "register_dataset(db, \"https://download.pangaea.de/dataset/962852/files/LGM_foraminifera_assemblages_20240110.csv\";\n",
    "    name=\"jonkers2024\",\n",
    "    doi=\"10.1594/PANGAEA.962852\",\n",
    ")\n",
    "\n",
    "register_dataset(db, \"git@github.com:jesstierney/lgmDA.git\")\n",
    "\n",
    "register_dataset(db, \"ssh://albedo1.dmawi.de:/albedo/work/projects/p_forclima/preproc_data_esmvaltool/LGM/recipe_cmip6_lgm_tos_20241114_151009/preproc/lgm/tos_CLIM\"; name=\"CMIP6_lgm_tos\")\n",
    "\n",
    "println(db)"
   ]
  },
  {
   "cell_type": "code",
   "execution_count": 5,
   "metadata": {},
   "outputs": [
    {
     "data": {
      "text/plain": [
       "Database(\n",
       "  datasets=Dict(\n",
       "    CMIP6_lgm_tos => DatasetEntry(uri=\"ssh:/albedo1.dmawi.de:/albedo/work/projects...),\n",
       "    herzschuh2023 => DatasetEntry(uri=\"https:/doi.pangaea.de/10.1594...),\n",
       "    jonkers2024 => DatasetEntry(uri=\"https:/download.pangaea.de/dataset/962852/files...),\n",
       "    jesstierney/lgmDA => DatasetEntry(uri=\"git@github.com:jesstierney/lgmDA.git\"...),\n",
       "  ),\n",
       "  datasets_path=\"datasets-test\"\n",
       ")"
      ]
     },
     "metadata": {},
     "output_type": "display_data"
    }
   ],
   "source": [
    "db"
   ]
  },
  {
   "cell_type": "code",
   "execution_count": 6,
   "metadata": {},
   "outputs": [
    {
     "data": {
      "text/plain": [
       "DatasetEntry(key=\"github.com/jesstierney..., uri=\"git@github.com:jesstierney..., host=\"github.com\", scheme=\"git\", path=\"/jesstierney/lgmDA.git\")"
      ]
     },
     "metadata": {},
     "output_type": "display_data"
    }
   ],
   "source": [
    "db.datasets[\"jesstierney/lgmDA\"]"
   ]
  },
  {
   "cell_type": "code",
   "execution_count": 7,
   "metadata": {},
   "outputs": [
    {
     "data": {
      "text/plain": [
       "(\"datasets-test/doi.pangaea.de/10.1594/PANGAEA.930512\", \"datasets-test\", DatasetEntry:\n",
       "- key=doi.pangaea.de/10.1594/PANGAEA.930512\n",
       "- uri=https://doi.pangaea.de/10.1594/PANGAEA.930512?format=zip\n",
       "- host=doi.pangaea.de\n",
       "- doi=10.1594/PANGAEA.930512\n",
       "- scheme=https\n",
       "- path=/10.1594/PANGAEA.930512)"
      ]
     },
     "metadata": {},
     "output_type": "display_data"
    }
   ],
   "source": [
    "get_dataset_path(db, \"herzschuh2023\"), db.datasets_path, db.datasets[\"herzschuh2023\"]"
   ]
  },
  {
   "cell_type": "code",
   "execution_count": 8,
   "metadata": {},
   "outputs": [
    {
     "name": "stdout",
     "output_type": "stream",
     "text": [
      "DatasetEntry:\n",
      "- key=doi.pangaea.de/10.1594/PANGAEA.930512\n",
      "- uri=https://doi.pangaea.de/10.1594/PANGAEA.930512?format=zip\n",
      "- host=doi.pangaea.de\n",
      "- doi=10.1594/PANGAEA.930512\n",
      "- scheme=https\n",
      "- path=/10.1594/PANGAEA.930512\n",
      "doi.pangaea.de/10.1594/PANGAEA.930512\n",
      "DatasetEntry(key=\"doi.pangaea.de/10.1594..., uri=\"https:/doi.pangaea.de/10.1594..., host=\"doi.pangaea.de\", doi=\"10.1594/PANGAEA.930512\", scheme=\"https\", path=\"/10.1594/PANGAEA.930512\")\n",
      "DatasetEntry(uri=\"https:/doi.pangaea.de/10.1594...)\n"
     ]
    },
    {
     "data": {
      "text/plain": [
       "DatasetEntry(key=\"doi.pangaea.de/10.1594..., uri=\"https:/doi.pangaea.de/10.1594..., host=\"doi.pangaea.de\", doi=\"10.1594/PANGAEA.930512\", scheme=\"https\", path=\"/10.1594/PANGAEA.930512\")"
      ]
     },
     "metadata": {},
     "output_type": "display_data"
    }
   ],
   "source": [
    "println(string(db.datasets[\"herzschuh2023\"]))\n",
    "println(string_short(db.datasets[\"herzschuh2023\"]))\n",
    "println(repr(db.datasets[\"herzschuh2023\"]))\n",
    "println(repr_short(db.datasets[\"herzschuh2023\"]))\n",
    "db.datasets[\"herzschuh2023\"]"
   ]
  },
  {
   "cell_type": "code",
   "execution_count": 9,
   "metadata": {},
   "outputs": [
    {
     "name": "stdout",
     "output_type": "stream",
     "text": [
      "Database:\n",
      "- CMIP6_lgm_tos => albedo1.dmawi.de/albedo/work/projects/p_forclima/preproc_data...\n",
      "- herzschuh2023 => doi.pangaea.de/10.1594/PANGAEA.930512\n",
      "- jonkers2024 => download.pangaea.de/dataset/962852/files/LGM_foraminifera_assem...\n",
      "- jesstierney/lgmDA => github.com/jesstierney/lgmDA.git\n",
      "datasets_path: datasets-test\n"
     ]
    },
    {
     "data": {
      "text/plain": [
       "Database(\n",
       "  datasets=Dict(\n",
       "    CMIP6_lgm_tos => DatasetEntry(uri=\"ssh:/albedo1.dmawi.de:/albedo/work/projects...),\n",
       "    herzschuh2023 => DatasetEntry(uri=\"https:/doi.pangaea.de/10.1594...),\n",
       "    jonkers2024 => DatasetEntry(uri=\"https:/download.pangaea.de/dataset/962852/files...),\n",
       "    jesstierney/lgmDA => DatasetEntry(uri=\"git@github.com:jesstierney/lgmDA.git\"...),\n",
       "  ),\n",
       "  datasets_path=\"datasets-test\"\n",
       ")"
      ]
     },
     "metadata": {},
     "output_type": "display_data"
    }
   ],
   "source": [
    "println(string(db))\n",
    "db"
   ]
  },
  {
   "cell_type": "code",
   "execution_count": 10,
   "metadata": {},
   "outputs": [
    {
     "name": "stdout",
     "output_type": "stream",
     "text": [
      "[CMIP6_lgm_tos]\n",
      "key = \"albedo1.dmawi.de/albedo/work/projects/p_forclima/preproc_data_esmvaltool/LGM/recipe_cmip6_lgm_tos_20241114_151009/preproc/lgm/tos_CLIM\"\n",
      "uri = \"ssh://albedo1.dmawi.de:/albedo/work/projects/p_forclima/preproc_data_esmvaltool/LGM/recipe_cmip6_lgm_tos_20241114_151009/preproc/lgm/tos_CLIM\"\n",
      "host = \"albedo1.dmawi.de\"\n",
      "scheme = \"ssh\"\n",
      "path = \"/albedo/work/projects/p_forclima/preproc_data_esmvaltool/LGM/recipe_cmip6_lgm_tos_20241114_151009/preproc/lgm/tos_CLIM\"\n",
      "\n",
      "[herzschuh2023]\n",
      "key = \"doi.pangaea.de/10.1594/PANGAEA.930512\"\n",
      "uri = \"https://doi.pangaea.de/10.1594/PANGAEA.930512?format=zip\"\n",
      "host = \"doi.pangaea.de\"\n",
      "doi = \"10.1594/PANGAEA.930512\"\n",
      "scheme = \"https\"\n",
      "path = \"/10.1594/PANGAEA.930512\"\n",
      "\n",
      "[jonkers2024]\n",
      "key = \"download.pangaea.de/dataset/962852/files/LGM_foraminifera_assemblages_20240110.csv\"\n",
      "uri = \"https://download.pangaea.de/dataset/962852/files/LGM_foraminifera_assemblages_20240110.csv\"\n",
      "host = \"download.pangaea.de\"\n",
      "doi = \"10.1594/PANGAEA.962852\"\n",
      "scheme = \"https\"\n",
      "path = \"/dataset/962852/files/LGM_foraminifera_assemblages_20240110.csv\"\n",
      "\n",
      "[\"jesstierney/lgmDA\"]\n",
      "key = \"github.com/jesstierney/lgmDA.git\"\n",
      "uri = \"git@github.com:jesstierney/lgmDA.git\"\n",
      "host = \"github.com\"\n",
      "scheme = \"git\"\n",
      "path = \"/jesstierney/lgmDA.git\"\n"
     ]
    }
   ],
   "source": [
    "import TOML\n",
    "TOML.print(db)"
   ]
  },
  {
   "cell_type": "code",
   "execution_count": 11,
   "metadata": {},
   "outputs": [],
   "source": [
    "write(db, \"test.toml\")"
   ]
  },
  {
   "cell_type": "code",
   "execution_count": 12,
   "metadata": {},
   "outputs": [
    {
     "name": "stdout",
     "output_type": "stream",
     "text": [
      "[CMIP6_lgm_tos]\n",
      "key = \"albedo1.dmawi.de/albedo/work/projects/p_forclima/preproc_data_esmvaltool/LGM/recipe_cmip6_lgm_tos_20241114_151009/preproc/lgm/tos_CLIM\"\n",
      "uri = \"ssh://albedo1.dmawi.de:/albedo/work/projects/p_forclima/preproc_data_esmvaltool/LGM/recipe_cmip6_lgm_tos_20241114_151009/preproc/lgm/tos_CLIM\"\n",
      "host = \"albedo1.dmawi.de\"\n",
      "scheme = \"ssh\"\n",
      "path = \"/albedo/work/projects/p_forclima/preproc_data_esmvaltool/LGM/recipe_cmip6_lgm_tos_20241114_151009/preproc/lgm/tos_CLIM\"\n",
      "\n",
      "[herzschuh2023]\n",
      "key = \"doi.pangaea.de/10.1594/PANGAEA.930512\"\n",
      "uri = \"https://doi.pangaea.de/10.1594/PANGAEA.930512?format=zip\"\n",
      "host = \"doi.pangaea.de\"\n",
      "doi = \"10.1594/PANGAEA.930512\"\n",
      "scheme = \"https\"\n",
      "path = \"/10.1594/PANGAEA.930512\"\n",
      "\n",
      "[jonkers2024]\n",
      "key = \"download.pangaea.de/dataset/962852/files/LGM_foraminifera_assemblages_20240110.csv\"\n",
      "uri = \"https://download.pangaea.de/dataset/962852/files/LGM_foraminifera_assemblages_20240110.csv\"\n",
      "host = \"download.pangaea.de\"\n",
      "doi = \"10.1594/PANGAEA.962852\"\n",
      "scheme = \"https\"\n",
      "path = \"/dataset/962852/files/LGM_foraminifera_assemblages_20240110.csv\"\n",
      "\n",
      "[\"jesstierney/lgmDA\"]\n",
      "key = \"github.com/jesstierney/lgmDA.git\"\n",
      "uri = \"git@github.com:jesstierney/lgmDA.git\"\n",
      "host = \"github.com\"\n",
      "scheme = \"git\"\n",
      "path = \"/jesstierney/lgmDA.git\"\n"
     ]
    }
   ],
   "source": [
    "run(`cat test.toml`);"
   ]
  },
  {
   "cell_type": "code",
   "execution_count": 13,
   "metadata": {},
   "outputs": [
    {
     "data": {
      "text/plain": [
       "true"
      ]
     },
     "metadata": {},
     "output_type": "display_data"
    }
   ],
   "source": [
    "other = read(\"test.toml\", \"datasets-test\")\n",
    "other == db"
   ]
  },
  {
   "cell_type": "code",
   "execution_count": 14,
   "metadata": {},
   "outputs": [
    {
     "data": {
      "text/plain": [
       "\"datasets-test/download.pangaea.de/dataset/962852/files/LGM_foraminifera_assemblages_20240110.csv\""
      ]
     },
     "metadata": {},
     "output_type": "display_data"
    }
   ],
   "source": [
    "folder = download_dataset(db, \"jonkers2024\") # will download only if not present"
   ]
  },
  {
   "cell_type": "code",
   "execution_count": 15,
   "metadata": {},
   "outputs": [
    {
     "name": "stdout",
     "output_type": "stream",
     "text": [
      "receiving incremental file list\n",
      "tos_CLIM/\n",
      "tos_CLIM/CMIP6_AWI-ESM-1-1-LR_Omon_lgm_r1i1p1f1_tos_gn.nc\n",
      "tos_CLIM/CMIP6_AWI-ESM-1-1-LR_Omon_lgm_r1i1p1f1_tos_gn_provenance.xml\n",
      "tos_CLIM/CMIP6_CESM2-FV2_Omon_lgm_r1i2p2f1_tos_gn.nc\n",
      "tos_CLIM/CMIP6_CESM2-FV2_Omon_lgm_r1i2p2f1_tos_gn_provenance.xml\n",
      "tos_CLIM/CMIP6_CESM2-WACCM-FV2_Omon_lgm_r1i2p2f1_tos_gn.nc\n",
      "tos_CLIM/CMIP6_CESM2-WACCM-FV2_Omon_lgm_r1i2p2f1_tos_gn_provenance.xml\n",
      "tos_CLIM/CMIP6_INM-CM4-8_Omon_lgm_r1i1p1f1_tos_gr1.nc\n",
      "tos_CLIM/CMIP6_INM-CM4-8_Omon_lgm_r1i1p1f1_tos_gr1_provenance.xml\n",
      "tos_CLIM/CMIP6_MIROC-ES2L_Omon_lgm_r1i1p1f2_tos_gn.nc\n",
      "tos_CLIM/CMIP6_MIROC-ES2L_Omon_lgm_r1i1p1f2_tos_gn_provenance.xml\n",
      "tos_CLIM/CMIP6_MIROC-ES2L_Omon_lgm_r1i1p1f2_tos_gr1.nc\n",
      "tos_CLIM/CMIP6_MIROC-ES2L_Omon_lgm_r1i1p1f2_tos_gr1_provenance.xml\n",
      "tos_CLIM/CMIP6_MPI-ESM1-2-LR_Omon_lgm_r1i1p1f1_tos_gn.nc\n",
      "tos_CLIM/CMIP6_MPI-ESM1-2-LR_Omon_lgm_r1i1p1f1_tos_gn_provenance.xml\n",
      "tos_CLIM/metadata.yml\n",
      "\n",
      "sent 313 bytes  received 109,228 bytes  43,816.40 bytes/sec\n",
      "total size is 551,880  speedup is 5.04\n"
     ]
    },
    {
     "name": "stderr",
     "output_type": "stream",
     "text": [
      "Cloning into 'datasets-test/github.com/jesstierney/lgmDA.git'...\n"
     ]
    }
   ],
   "source": [
    "download_datasets(db)"
   ]
  },
  {
   "cell_type": "code",
   "execution_count": 16,
   "metadata": {},
   "outputs": [
    {
     "name": "stdout",
     "output_type": "stream",
     "text": [
      "datasets-test\n",
      "datasets-test/albedo1.dmawi.de\n",
      "datasets-test/albedo1.dmawi.de/albedo\n",
      "datasets-test/albedo1.dmawi.de/albedo/work\n",
      "datasets-test/albedo1.dmawi.de/albedo/work/projects\n",
      "datasets-test/albedo1.dmawi.de/albedo/work/projects/p_forclima\n",
      "datasets-test/albedo1.dmawi.de/albedo/work/projects/p_forclima/preproc_data_esmvaltool\n",
      "datasets-test/albedo1.dmawi.de/albedo/work/projects/p_forclima/preproc_data_esmvaltool/LGM\n",
      "datasets-test/albedo1.dmawi.de/albedo/work/projects/p_forclima/preproc_data_esmvaltool/LGM/recipe_cmip6_lgm_tos_20241114_151009\n",
      "datasets-test/albedo1.dmawi.de/albedo/work/projects/p_forclima/preproc_data_esmvaltool/LGM/recipe_cmip6_lgm_tos_20241114_151009/preproc\n",
      "datasets-test/albedo1.dmawi.de/albedo/work/projects/p_forclima/preproc_data_esmvaltool/LGM/recipe_cmip6_lgm_tos_20241114_151009/preproc/lgm\n",
      "datasets-test/albedo1.dmawi.de/albedo/work/projects/p_forclima/preproc_data_esmvaltool/LGM/recipe_cmip6_lgm_tos_20241114_151009/preproc/lgm/tos_CLIM\n",
      "datasets-test/albedo1.dmawi.de/albedo/work/projects/p_forclima/preproc_data_esmvaltool/LGM/recipe_cmip6_lgm_tos_20241114_151009/preproc/lgm/tos_CLIM/metadata.yml\n",
      "datasets-test/albedo1.dmawi.de/albedo/work/projects/p_forclima/preproc_data_esmvaltool/LGM/recipe_cmip6_lgm_tos_20241114_151009/preproc/lgm/tos_CLIM/CMIP6_MIROC-ES2L_Omon_lgm_r1i1p1f2_tos_gr1.nc\n",
      "datasets-test/albedo1.dmawi.de/albedo/work/projects/p_forclima/preproc_data_esmvaltool/LGM/recipe_cmip6_lgm_tos_20241114_151009/preproc/lgm/tos_CLIM/CMIP6_CESM2-FV2_Omon_lgm_r1i2p2f1_tos_gn.nc\n",
      "datasets-test/albedo1.dmawi.de/albedo/work/projects/p_forclima/preproc_data_esmvaltool/LGM/recipe_cmip6_lgm_tos_20241114_151009/preproc/lgm/tos_CLIM/CMIP6_INM-CM4-8_Omon_lgm_r1i1p1f1_tos_gr1_provenance.xml\n",
      "datasets-test/albedo1.dmawi.de/albedo/work/projects/p_forclima/preproc_data_esmvaltool/LGM/recipe_cmip6_lgm_tos_20241114_151009/preproc/lgm/tos_CLIM/CMIP6_MPI-ESM1-2-LR_Omon_lgm_r1i1p1f1_tos_gn_provenance.xml\n",
      "datasets-test/albedo1.dmawi.de/albedo/work/projects/p_forclima/preproc_data_esmvaltool/LGM/recipe_cmip6_lgm_tos_20241114_151009/preproc/lgm/tos_CLIM/CMIP6_MIROC-ES2L_Omon_lgm_r1i1p1f2_tos_gr1_provenance.xml\n",
      "datasets-test/albedo1.dmawi.de/albedo/work/projects/p_forclima/preproc_data_esmvaltool/LGM/recipe_cmip6_lgm_tos_20241114_151009/preproc/lgm/tos_CLIM/CMIP6_CESM2-WACCM-FV2_Omon_lgm_r1i2p2f1_tos_gn.nc\n",
      "datasets-test/albedo1.dmawi.de/albedo/work/projects/p_forclima/preproc_data_esmvaltool/LGM/recipe_cmip6_lgm_tos_20241114_151009/preproc/lgm/tos_CLIM/CMIP6_MIROC-ES2L_Omon_lgm_r1i1p1f2_tos_gn_provenance.xml\n",
      "datasets-test/albedo1.dmawi.de/albedo/work/projects/p_forclima/preproc_data_esmvaltool/LGM/recipe_cmip6_lgm_tos_20241114_151009/preproc/lgm/tos_CLIM/CMIP6_CESM2-WACCM-FV2_Omon_lgm_r1i2p2f1_tos_gn_provenance.xml\n",
      "datasets-test/albedo1.dmawi.de/albedo/work/projects/p_forclima/preproc_data_esmvaltool/LGM/recipe_cmip6_lgm_tos_20241114_151009/preproc/lgm/tos_CLIM/CMIP6_MPI-ESM1-2-LR_Omon_lgm_r1i1p1f1_tos_gn.nc\n",
      "datasets-test/albedo1.dmawi.de/albedo/work/projects/p_forclima/preproc_data_esmvaltool/LGM/recipe_cmip6_lgm_tos_20241114_151009/preproc/lgm/tos_CLIM/CMIP6_MIROC-ES2L_Omon_lgm_r1i1p1f2_tos_gn.nc\n",
      "datasets-test/albedo1.dmawi.de/albedo/work/projects/p_forclima/preproc_data_esmvaltool/LGM/recipe_cmip6_lgm_tos_20241114_151009/preproc/lgm/tos_CLIM/CMIP6_AWI-ESM-1-1-LR_Omon_lgm_r1i1p1f1_tos_gn.nc\n",
      "datasets-test/albedo1.dmawi.de/albedo/work/projects/p_forclima/preproc_data_esmvaltool/LGM/recipe_cmip6_lgm_tos_20241114_151009/preproc/lgm/tos_CLIM/CMIP6_AWI-ESM-1-1-LR_Omon_lgm_r1i1p1f1_tos_gn_provenance.xml\n",
      "datasets-test/albedo1.dmawi.de/albedo/work/projects/p_forclima/preproc_data_esmvaltool/LGM/recipe_cmip6_lgm_tos_20241114_151009/preproc/lgm/tos_CLIM/CMIP6_INM-CM4-8_Omon_lgm_r1i1p1f1_tos_gr1.nc\n",
      "datasets-test/albedo1.dmawi.de/albedo/work/projects/p_forclima/preproc_data_esmvaltool/LGM/recipe_cmip6_lgm_tos_20241114_151009/preproc/lgm/tos_CLIM/CMIP6_CESM2-FV2_Omon_lgm_r1i2p2f1_tos_gn_provenance.xml\n",
      "datasets-test/doi.pangaea.de\n",
      "datasets-test/doi.pangaea.de/10.1594\n",
      "datasets-test/doi.pangaea.de/10.1594/PANGAEA.930512\n",
      "datasets-test/download.pangaea.de\n",
      "datasets-test/download.pangaea.de/dataset\n",
      "datasets-test/download.pangaea.de/dataset/962852\n",
      "datasets-test/download.pangaea.de/dataset/962852/files\n",
      "datasets-test/download.pangaea.de/dataset/962852/files/LGM_foraminifera_assemblages_20240110.csv\n",
      "datasets-test/github.com\n",
      "datasets-test/github.com/jesstierney\n",
      "datasets-test/github.com/jesstierney/lgmDA.git\n",
      "datasets-test/github.com/jesstierney/lgmDA.git/version2.0\n",
      "datasets-test/github.com/jesstierney/lgmDA.git/version2.0/lgmDA_lgm_ATM_monthly_climo.nc\n",
      "datasets-test/github.com/jesstierney/lgmDA.git/version2.0/lgmDA_lgm_Ocn_annual.nc\n",
      "datasets-test/github.com/jesstierney/lgmDA.git/version2.0/lgmDAv2_README.pdf\n",
      "datasets-test/github.com/jesstierney/lgmDA.git/version2.0/lgmDA_lgm_SST_monthly_climo.nc\n",
      "datasets-test/github.com/jesstierney/lgmDA.git/version2.0/lgmDA_hol_Ocn_annual.nc\n",
      "datasets-test/github.com/jesstierney/lgmDA.git/version2.0/lgmDA_lgm_ATM_annual.nc\n",
      "datasets-test/github.com/jesstierney/lgmDA.git/version2.0/lgmDA_hol_SST_monthly_climo.nc\n",
      "datasets-test/github.com/jesstierney/lgmDA.git/version2.0/lgmDA_hol_ATM_annual.nc\n",
      "datasets-test/github.com/jesstierney/lgmDA.git/version2.0/lgmDA_hol_ATM_monthly_climo.nc\n",
      "datasets-test/github.com/jesstierney/lgmDA.git/LICENSE\n",
      "datasets-test/github.com/jesstierney/lgmDA.git/proxyData\n",
      "datasets-test/github.com/jesstierney/lgmDA.git/proxyData/Tierney2020_LGMProxyData.csv\n",
      "datasets-test/github.com/jesstierney/lgmDA.git/proxyData/Tierney2020_LHProxyData.csv\n",
      "datasets-test/github.com/jesstierney/lgmDA.git/proxyData/Tierney2020_ProxyData_5x5_deltaSST.nc\n",
      "datasets-test/github.com/jesstierney/lgmDA.git/proxyData/Tierney2020_ProxyDataPaired.csv\n",
      "datasets-test/github.com/jesstierney/lgmDA.git/.git\n",
      "datasets-test/github.com/jesstierney/lgmDA.git/.git/refs\n",
      "datasets-test/github.com/jesstierney/lgmDA.git/.git/refs/heads\n",
      "datasets-test/github.com/jesstierney/lgmDA.git/.git/refs/heads/master\n",
      "datasets-test/github.com/jesstierney/lgmDA.git/.git/refs/remotes\n",
      "datasets-test/github.com/jesstierney/lgmDA.git/.git/refs/remotes/origin\n",
      "datasets-test/github.com/jesstierney/lgmDA.git/.git/refs/remotes/origin/HEAD\n",
      "datasets-test/github.com/jesstierney/lgmDA.git/.git/refs/tags\n",
      "datasets-test/github.com/jesstierney/lgmDA.git/.git/refs/tags/v2.1\n",
      "datasets-test/github.com/jesstierney/lgmDA.git/.git/logs\n",
      "datasets-test/github.com/jesstierney/lgmDA.git/.git/logs/refs\n",
      "datasets-test/github.com/jesstierney/lgmDA.git/.git/logs/refs/heads\n",
      "datasets-test/github.com/jesstierney/lgmDA.git/.git/logs/refs/heads/master\n",
      "datasets-test/github.com/jesstierney/lgmDA.git/.git/logs/refs/remotes\n",
      "datasets-test/github.com/jesstierney/lgmDA.git/.git/logs/refs/remotes/origin\n",
      "datasets-test/github.com/jesstierney/lgmDA.git/.git/logs/refs/remotes/origin/HEAD\n",
      "datasets-test/github.com/jesstierney/lgmDA.git/.git/logs/HEAD\n",
      "datasets-test/github.com/jesstierney/lgmDA.git/.git/branches\n",
      "datasets-test/github.com/jesstierney/lgmDA.git/.git/index\n",
      "datasets-test/github.com/jesstierney/lgmDA.git/.git/HEAD\n",
      "datasets-test/github.com/jesstierney/lgmDA.git/.git/config\n",
      "datasets-test/github.com/jesstierney/lgmDA.git/.git/packed-refs\n",
      "datasets-test/github.com/jesstierney/lgmDA.git/.git/info\n",
      "datasets-test/github.com/jesstierney/lgmDA.git/.git/info/exclude\n",
      "datasets-test/github.com/jesstierney/lgmDA.git/.git/objects\n",
      "datasets-test/github.com/jesstierney/lgmDA.git/.git/objects/pack\n",
      "datasets-test/github.com/jesstierney/lgmDA.git/.git/objects/pack/pack-baa05f6a2cd45b90a7a33c9627e2e6d2345230ca.rev\n",
      "datasets-test/github.com/jesstierney/lgmDA.git/.git/objects/pack/pack-baa05f6a2cd45b90a7a33c9627e2e6d2345230ca.pack\n",
      "datasets-test/github.com/jesstierney/lgmDA.git/.git/objects/pack/pack-baa05f6a2cd45b90a7a33c9627e2e6d2345230ca.idx\n",
      "datasets-test/github.com/jesstierney/lgmDA.git/.git/objects/info\n",
      "datasets-test/github.com/jesstierney/lgmDA.git/.git/hooks\n",
      "datasets-test/github.com/jesstierney/lgmDA.git/.git/hooks/pre-merge-commit.sample\n",
      "datasets-test/github.com/jesstierney/lgmDA.git/.git/hooks/pre-applypatch.sample\n",
      "datasets-test/github.com/jesstierney/lgmDA.git/.git/hooks/fsmonitor-watchman.sample\n",
      "datasets-test/github.com/jesstierney/lgmDA.git/.git/hooks/update.sample\n",
      "datasets-test/github.com/jesstierney/lgmDA.git/.git/hooks/push-to-checkout.sample\n",
      "datasets-test/github.com/jesstierney/lgmDA.git/.git/hooks/commit-msg.sample\n",
      "datasets-test/github.com/jesstierney/lgmDA.git/.git/hooks/pre-push.sample\n",
      "datasets-test/github.com/jesstierney/lgmDA.git/.git/hooks/applypatch-msg.sample\n",
      "datasets-test/github.com/jesstierney/lgmDA.git/.git/hooks/pre-rebase.sample\n",
      "datasets-test/github.com/jesstierney/lgmDA.git/.git/hooks/pre-commit.sample\n",
      "datasets-test/github.com/jesstierney/lgmDA.git/.git/hooks/pre-receive.sample\n",
      "datasets-test/github.com/jesstierney/lgmDA.git/.git/hooks/post-update.sample\n",
      "datasets-test/github.com/jesstierney/lgmDA.git/.git/hooks/sendemail-validate.sample\n",
      "datasets-test/github.com/jesstierney/lgmDA.git/.git/hooks/prepare-commit-msg.sample\n",
      "datasets-test/github.com/jesstierney/lgmDA.git/.git/description\n",
      "datasets-test/github.com/jesstierney/lgmDA.git/.git/shallow\n",
      "datasets-test/github.com/jesstierney/lgmDA.git/version1.0\n",
      "datasets-test/github.com/jesstierney/lgmDA.git/version1.0/Tierney2020_DA_ocn_regrid.nc\n",
      "datasets-test/github.com/jesstierney/lgmDA.git/version1.0/Tierney2020_DA_ocn.nc\n",
      "datasets-test/github.com/jesstierney/lgmDA.git/version1.0/Tierney2020_DA_atm.nc\n",
      "datasets-test/github.com/jesstierney/lgmDA.git/lgmMap.jpg\n",
      "datasets-test/github.com/jesstierney/lgmDA.git/.gitignore\n",
      "datasets-test/github.com/jesstierney/lgmDA.git/version2.1\n",
      "datasets-test/github.com/jesstierney/lgmDA.git/version2.1/lgmDA_lgm_ATM_monthly_climo.nc\n",
      "datasets-test/github.com/jesstierney/lgmDA.git/version2.1/lgmDA_lgm_Ocn_annual.nc\n",
      "datasets-test/github.com/jesstierney/lgmDA.git/version2.1/lgmDA_lgm_SST_monthly_climo.nc\n",
      "datasets-test/github.com/jesstierney/lgmDA.git/version2.1/lgmDA_hol_Ocn_annual.nc\n",
      "datasets-test/github.com/jesstierney/lgmDA.git/version2.1/lgmDA_lgm_ATM_annual.nc\n",
      "datasets-test/github.com/jesstierney/lgmDA.git/version2.1/lgmDAv21_README.pdf\n",
      "datasets-test/github.com/jesstierney/lgmDA.git/version2.1/lgmDA_hol_SST_monthly_climo.nc\n",
      "datasets-test/github.com/jesstierney/lgmDA.git/version2.1/lgmDA_hol_ATM_annual.nc\n",
      "datasets-test/github.com/jesstierney/lgmDA.git/version2.1/lgmDA_hol_ATM_monthly_climo.nc\n",
      "datasets-test/github.com/jesstierney/lgmDA.git/README.md\n"
     ]
    },
    {
     "data": {
      "text/plain": [
       "Process(`\u001b[4mfind\u001b[24m \u001b[4mdatasets-test\u001b[24m`, ProcessExited(0))"
      ]
     },
     "metadata": {},
     "output_type": "display_data"
    }
   ],
   "source": [
    "run(`find datasets-test`)"
   ]
  }
 ],
 "metadata": {
  "kernelspec": {
   "display_name": "Julia 1.11.5",
   "language": "julia",
   "name": "julia-1.11"
  },
  "language_info": {
   "file_extension": ".jl",
   "mimetype": "application/julia",
   "name": "julia",
   "version": "1.11.5"
  }
 },
 "nbformat": 4,
 "nbformat_minor": 2
}
