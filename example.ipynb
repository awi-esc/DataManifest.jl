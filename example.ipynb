{
 "cells": [
  {
   "cell_type": "code",
   "execution_count": 1,
   "metadata": {},
   "outputs": [
    {
     "name": "stderr",
     "output_type": "stream",
     "text": [
      "\u001b[32m\u001b[1m  Activating\u001b[22m\u001b[39m project at `~/Projects/DataManifest.jl`\n"
     ]
    }
   ],
   "source": [
    "# using Revise\n",
    "using Pkg\n",
    "Pkg.activate(\".\")\n",
    "using DataManifest"
   ]
  },
  {
   "cell_type": "code",
   "execution_count": 2,
   "metadata": {},
   "outputs": [
    {
     "name": "stderr",
     "output_type": "stream",
     "text": [
      "\u001b[36m\u001b[1m[ \u001b[22m\u001b[39m\u001b[36m\u001b[1mDataManifest \u001b[22m\u001b[39mUsing database: /home/perrette/Projects/DataManifest.jl/Datasets.toml\n",
      "\u001b[36m\u001b[1m[ \u001b[22m\u001b[39m\u001b[36m\u001b[1mDataManifest \u001b[22m\u001b[39mDataset entry [jesstierney/lgmDA] already exists.\n",
      "\u001b[36m\u001b[1m[ \u001b[22m\u001b[39m\u001b[36m\u001b[1mDataManifest \u001b[22m\u001b[39mDataset already exists at: /home/perrette/.cache/Datasets/github.com/jesstierney/lgmDA/archive/refs/tags/v2.1.zip\n"
     ]
    },
    {
     "data": {
      "text/plain": [
       "\"jesstierney/lgmDA\" => DatasetEntry:\n",
       "- uri=https://github.com/jesstierney/lgmDA/archive/refs/tags/v2.1.zip\n",
       "- sha256=6cb042a77fb9d175eca9cd3a7e22e6f4e2ec413180d7902a59669f273ee08c81"
      ]
     },
     "metadata": {},
     "output_type": "display_data"
    }
   ],
   "source": [
    "DataManifest.add(\"https://github.com/jesstierney/lgmDA/archive/refs/tags/v2.1.zip\")"
   ]
  },
  {
   "cell_type": "code",
   "execution_count": 3,
   "metadata": {},
   "outputs": [
    {
     "data": {
      "text/plain": [
       "Database(\n",
       "  datasets=Dict(\n",
       "    CMIP6_lgm_tos => DatasetEntry(uri=\"ssh:/albedo1.dmawi.de:/albedo/work/projects...),\n",
       "    herzschuh2023 => DatasetEntry(uri=\"https:/doi.pangaea.de/10.1594...),\n",
       "    jonkers2024 => DatasetEntry(uri=\"https:/download.pangaea.de/dataset/962852/files...),\n",
       "    jesstierney/lgmDA => DatasetEntry(uri=\"https:/github.com/jesstierney/lgmDA/archive/refs...),\n",
       "  ),\n",
       "  datasets_folder=\"datasets-test\"\n",
       "  datasets_toml=\"/home/perrette/Projects/DataManifest.jl/Datasets.toml\"\n",
       ")"
      ]
     },
     "metadata": {},
     "output_type": "display_data"
    }
   ],
   "source": [
    "db = Database(datasets_folder=\"datasets-test\")\n",
    "rm(\"datasets-test\"; force=true, recursive=true)\n",
    "db"
   ]
  },
  {
   "cell_type": "code",
   "execution_count": 4,
   "metadata": {},
   "outputs": [
    {
     "name": "stderr",
     "output_type": "stream",
     "text": [
      "\u001b[36m\u001b[1m[ \u001b[22m\u001b[39m\u001b[36m\u001b[1mDataManifest \u001b[22m\u001b[39mDataset entry [herzschuh2023] already exists.\n",
      "\u001b[36m\u001b[1m[ \u001b[22m\u001b[39m\u001b[36m\u001b[1mDataManifest \u001b[22m\u001b[39mDataset entry [jonkers2024] already exists.\n",
      "\u001b[36m\u001b[1m[ \u001b[22m\u001b[39m\u001b[36m\u001b[1mDataManifest \u001b[22m\u001b[39mDataset entry [jesstierney/lgmDA] already exists.\n",
      "\u001b[36m\u001b[1m[ \u001b[22m\u001b[39m\u001b[36m\u001b[1mDataManifest \u001b[22m\u001b[39mDataset entry [CMIP6_lgm_tos] already exists.\n"
     ]
    },
    {
     "name": "stdout",
     "output_type": "stream",
     "text": [
      "Database:\n",
      "- CMIP6_lgm_tos => albedo1.dmawi.de/albedo/work/projects/p_forclima/preproc_data...\n",
      "- herzschuh2023 => doi.pangaea.de/10.1594/PANGAEA.930512\n",
      "- jonkers2024 => download.pangaea.de/dataset/962852/files/LGM_foraminifera_assem...\n",
      "- jesstierney/lgmDA => github.com/jesstierney/lgmDA/archive/refs/tags/v2.1.zip\n",
      "datasets_folder: datasets-test\n",
      "datasets_toml: /home/perrette/Projects/DataManifest.jl/Datasets.toml\n"
     ]
    }
   ],
   "source": [
    "register_dataset(db, \"https://doi.pangaea.de/10.1594/PANGAEA.930512?format=zip\";\n",
    "    name=\"herzschuh2023\",\n",
    "    doi=\"10.1594/PANGAEA.930512\",\n",
    ")\n",
    "\n",
    "register_dataset(db, \"https://download.pangaea.de/dataset/962852/files/LGM_foraminifera_assemblages_20240110.csv\";\n",
    "    name=\"jonkers2024\",\n",
    "    doi=\"10.1594/PANGAEA.962852\",\n",
    ")\n",
    "\n",
    "register_dataset(db, \"https://github.com/jesstierney/lgmDA/archive/refs/tags/v2.1.zip\")\n",
    "\n",
    "register_dataset(db, \"ssh://albedo1.dmawi.de:/albedo/work/projects/p_forclima/preproc_data_esmvaltool/LGM/recipe_cmip6_lgm_tos_20241114_151009/preproc/lgm/tos_CLIM\"; name=\"CMIP6_lgm_tos\")\n",
    "\n",
    "println(db)"
   ]
  },
  {
   "cell_type": "code",
   "execution_count": 5,
   "metadata": {},
   "outputs": [
    {
     "name": "stdout",
     "output_type": "stream",
     "text": [
      "DatasetEntry:\n",
      "- uri=ssh://albedo1.dmawi.de:/albedo/work/projects/p_forclima/preproc_data_esmvaltool/LGM/recipe_cmip6_lgm_tos_20241114_151009/preproc/lgm/tos_CLIM\n",
      "- sha256=7f28454b5c399226f923be60393ecbb2983c15538f9733864e5ce0f9f4b83601\n"
     ]
    }
   ],
   "source": [
    "println(string(db[\"CMIP6_lgm_tos\"]))"
   ]
  },
  {
   "cell_type": "code",
   "execution_count": 6,
   "metadata": {},
   "outputs": [
    {
     "data": {
      "text/plain": [
       "Database(\n",
       "  datasets=Dict(\n",
       "    CMIP6_lgm_tos => DatasetEntry(uri=\"ssh:/albedo1.dmawi.de:/albedo/work/projects...),\n",
       "    herzschuh2023 => DatasetEntry(uri=\"https:/doi.pangaea.de/10.1594...),\n",
       "    jonkers2024 => DatasetEntry(uri=\"https:/download.pangaea.de/dataset/962852/files...),\n",
       "    jesstierney/lgmDA => DatasetEntry(uri=\"https:/github.com/jesstierney/lgmDA/archive/refs...),\n",
       "  ),\n",
       "  datasets_folder=\"datasets-test\"\n",
       "  datasets_toml=\"/home/perrette/Projects/DataManifest.jl/Datasets.toml\"\n",
       ")"
      ]
     },
     "metadata": {},
     "output_type": "display_data"
    }
   ],
   "source": [
    "db"
   ]
  },
  {
   "cell_type": "code",
   "execution_count": 7,
   "metadata": {},
   "outputs": [
    {
     "data": {
      "text/plain": [
       "(\"datasets-test/doi.pangaea.de/10.1594/PANGAEA.930512\", \"datasets-test\", DatasetEntry:\n",
       "- uri=https://doi.pangaea.de/10.1594/PANGAEA.930512?format=zip\n",
       "- skip_checksum=true\n",
       "- doi=10.1594/PANGAEA.930512)"
      ]
     },
     "metadata": {},
     "output_type": "display_data"
    }
   ],
   "source": [
    "get_dataset_path(db, \"herzschuh2023\"), db.datasets_folder, db.datasets[\"herzschuh2023\"]"
   ]
  },
  {
   "cell_type": "code",
   "execution_count": 8,
   "metadata": {},
   "outputs": [
    {
     "name": "stdout",
     "output_type": "stream",
     "text": [
      "DatasetEntry:\n",
      "- uri=https://doi.pangaea.de/10.1594/PANGAEA.930512?format=zip\n",
      "- skip_checksum=true\n",
      "- doi=10.1594/PANGAEA.930512\n",
      "doi.pangaea.de/10.1594/PANGAEA.930512\n",
      "DatasetEntry(uri=\"https:/doi.pangaea.de/10.1594..., skip_checksum=true, doi=\"10.1594/PANGAEA.930512\")\n",
      "DatasetEntry(uri=\"https:/doi.pangaea.de/10.1594...)\n"
     ]
    },
    {
     "data": {
      "text/plain": [
       "DatasetEntry(uri=\"https:/doi.pangaea.de/10.1594..., skip_checksum=true, doi=\"10.1594/PANGAEA.930512\")"
      ]
     },
     "metadata": {},
     "output_type": "display_data"
    }
   ],
   "source": [
    "println(string(db.datasets[\"herzschuh2023\"]))\n",
    "println(string_short(db.datasets[\"herzschuh2023\"]))\n",
    "println(repr(db.datasets[\"herzschuh2023\"]))\n",
    "println(repr_short(db.datasets[\"herzschuh2023\"]))\n",
    "db.datasets[\"herzschuh2023\"]"
   ]
  },
  {
   "cell_type": "code",
   "execution_count": 9,
   "metadata": {},
   "outputs": [
    {
     "name": "stdout",
     "output_type": "stream",
     "text": [
      "Database:\n",
      "- CMIP6_lgm_tos => albedo1.dmawi.de/albedo/work/projects/p_forclima/preproc_data...\n",
      "- herzschuh2023 => doi.pangaea.de/10.1594/PANGAEA.930512\n",
      "- jonkers2024 => download.pangaea.de/dataset/962852/files/LGM_foraminifera_assem...\n",
      "- jesstierney/lgmDA => github.com/jesstierney/lgmDA/archive/refs/tags/v2.1.zip\n",
      "datasets_folder: datasets-test\n",
      "datasets_toml: /home/perrette/Projects/DataManifest.jl/Datasets.toml\n"
     ]
    },
    {
     "data": {
      "text/plain": [
       "Database(\n",
       "  datasets=Dict(\n",
       "    CMIP6_lgm_tos => DatasetEntry(uri=\"ssh:/albedo1.dmawi.de:/albedo/work/projects...),\n",
       "    herzschuh2023 => DatasetEntry(uri=\"https:/doi.pangaea.de/10.1594...),\n",
       "    jonkers2024 => DatasetEntry(uri=\"https:/download.pangaea.de/dataset/962852/files...),\n",
       "    jesstierney/lgmDA => DatasetEntry(uri=\"https:/github.com/jesstierney/lgmDA/archive/refs...),\n",
       "  ),\n",
       "  datasets_folder=\"datasets-test\"\n",
       "  datasets_toml=\"/home/perrette/Projects/DataManifest.jl/Datasets.toml\"\n",
       ")"
      ]
     },
     "metadata": {},
     "output_type": "display_data"
    }
   ],
   "source": [
    "println(string(db))\n",
    "db"
   ]
  },
  {
   "cell_type": "code",
   "execution_count": 10,
   "metadata": {},
   "outputs": [
    {
     "name": "stdout",
     "output_type": "stream",
     "text": [
      "[CMIP6_lgm_tos]\n",
      "uri = \"ssh://albedo1.dmawi.de:/albedo/work/projects/p_forclima/preproc_data_esmvaltool/LGM/recipe_cmip6_lgm_tos_20241114_151009/preproc/lgm/tos_CLIM\"\n",
      "sha256 = \"7f28454b5c399226f923be60393ecbb2983c15538f9733864e5ce0f9f4b83601\"\n",
      "\n",
      "[herzschuh2023]\n",
      "uri = \"https://doi.pangaea.de/10.1594/PANGAEA.930512?format=zip\"\n",
      "skip_checksum = true\n",
      "doi = \"10.1594/PANGAEA.930512\"\n",
      "\n",
      "[jonkers2024]\n",
      "uri = \"https://download.pangaea.de/dataset/962852/files/LGM_foraminifera_assemblages_20240110.csv\"\n",
      "sha256 = \"35ee6e8b94dc355973276da609fb18846ee1156d0fa848c1a9b221edd3715513\"\n",
      "doi = \"10.1594/PANGAEA.962852\"\n",
      "\n",
      "[\"jesstierney/lgmDA\"]\n",
      "uri = \"https://github.com/jesstierney/lgmDA/archive/refs/tags/v2.1.zip\"\n",
      "sha256 = \"6cb042a77fb9d175eca9cd3a7e22e6f4e2ec413180d7902a59669f273ee08c81\"\n"
     ]
    }
   ],
   "source": [
    "import TOML\n",
    "TOML.print(db)"
   ]
  },
  {
   "cell_type": "code",
   "execution_count": 11,
   "metadata": {},
   "outputs": [
    {
     "data": {
      "text/plain": [
       "768"
      ]
     },
     "metadata": {},
     "output_type": "display_data"
    }
   ],
   "source": [
    "write(db, \"test.toml\")"
   ]
  },
  {
   "cell_type": "code",
   "execution_count": 12,
   "metadata": {},
   "outputs": [
    {
     "name": "stdout",
     "output_type": "stream",
     "text": [
      "[CMIP6_lgm_tos]\n",
      "uri = \"ssh://albedo1.dmawi.de:/albedo/work/projects/p_forclima/preproc_data_esmvaltool/LGM/recipe_cmip6_lgm_tos_20241114_151009/preproc/lgm/tos_CLIM\"\n",
      "sha256 = \"7f28454b5c399226f923be60393ecbb2983c15538f9733864e5ce0f9f4b83601\"\n",
      "\n",
      "[herzschuh2023]\n",
      "uri = \"https://doi.pangaea.de/10.1594/PANGAEA.930512?format=zip\"\n",
      "skip_checksum = true\n",
      "doi = \"10.1594/PANGAEA.930512\"\n",
      "\n",
      "[jonkers2024]\n",
      "uri = \"https://download.pangaea.de/dataset/962852/files/LGM_foraminifera_assemblages_20240110.csv\"\n",
      "sha256 = \"35ee6e8b94dc355973276da609fb18846ee1156d0fa848c1a9b221edd3715513\"\n",
      "doi = \"10.1594/PANGAEA.962852\"\n",
      "\n",
      "[\"jesstierney/lgmDA\"]\n",
      "uri = \"https://github.com/jesstierney/lgmDA/archive/refs/tags/v2.1.zip\"\n",
      "sha256 = \"6cb042a77fb9d175eca9cd3a7e22e6f4e2ec413180d7902a59669f273ee08c81\"\n"
     ]
    }
   ],
   "source": [
    "run(`cat test.toml`);"
   ]
  },
  {
   "cell_type": "code",
   "execution_count": 13,
   "metadata": {},
   "outputs": [
    {
     "data": {
      "text/plain": [
       "false"
      ]
     },
     "metadata": {},
     "output_type": "display_data"
    }
   ],
   "source": [
    "other = read(\"test.toml\", \"datasets-test\")\n",
    "other == db"
   ]
  },
  {
   "cell_type": "code",
   "execution_count": 14,
   "metadata": {},
   "outputs": [
    {
     "data": {
      "text/plain": [
       "\"datasets-test/download.pangaea.de/dataset/962852/files/LGM_foraminifera_assemblages_20240110.csv\""
      ]
     },
     "metadata": {},
     "output_type": "display_data"
    }
   ],
   "source": [
    "local_path = download_dataset(db, \"jonkers2024\") # will download only if not present"
   ]
  },
  {
   "cell_type": "code",
   "execution_count": 15,
   "metadata": {},
   "outputs": [
    {
     "name": "stdout",
     "output_type": "stream",
     "text": [
      "receiving incremental file list\n",
      "tos_CLIM/\n",
      "tos_CLIM/CMIP6_AWI-ESM-1-1-LR_Omon_lgm_r1i1p1f1_tos_gn.nc\n",
      "tos_CLIM/CMIP6_AWI-ESM-1-1-LR_Omon_lgm_r1i1p1f1_tos_gn_provenance.xml\n",
      "tos_CLIM/CMIP6_CESM2-FV2_Omon_lgm_r1i2p2f1_tos_gn.nc\n",
      "tos_CLIM/CMIP6_CESM2-FV2_Omon_lgm_r1i2p2f1_tos_gn_provenance.xml\n",
      "tos_CLIM/CMIP6_CESM2-WACCM-FV2_Omon_lgm_r1i2p2f1_tos_gn.nc\n",
      "tos_CLIM/CMIP6_CESM2-WACCM-FV2_Omon_lgm_r1i2p2f1_tos_gn_provenance.xml\n",
      "tos_CLIM/CMIP6_INM-CM4-8_Omon_lgm_r1i1p1f1_tos_gr1.nc\n",
      "tos_CLIM/CMIP6_INM-CM4-8_Omon_lgm_r1i1p1f1_tos_gr1_provenance.xml\n",
      "tos_CLIM/CMIP6_MIROC-ES2L_Omon_lgm_r1i1p1f2_tos_gn.nc\n",
      "tos_CLIM/CMIP6_MIROC-ES2L_Omon_lgm_r1i1p1f2_tos_gn_provenance.xml\n",
      "tos_CLIM/CMIP6_MIROC-ES2L_Omon_lgm_r1i1p1f2_tos_gr1.nc\n",
      "tos_CLIM/CMIP6_MIROC-ES2L_Omon_lgm_r1i1p1f2_tos_gr1_provenance.xml\n",
      "tos_CLIM/CMIP6_MPI-ESM1-2-LR_Omon_lgm_r1i1p1f1_tos_gn.nc\n",
      "tos_CLIM/CMIP6_MPI-ESM1-2-LR_Omon_lgm_r1i1p1f1_tos_gn_provenance.xml\n",
      "tos_CLIM/metadata.yml\n",
      "\n",
      "sent 313 bytes  received 109,228 bytes  43,816.40 bytes/sec\n",
      "total size is 551,880  speedup is 5.04\n"
     ]
    },
    {
     "name": "stderr",
     "output_type": "stream",
     "text": [
      "\u001b[36m\u001b[1m[ \u001b[22m\u001b[39m\u001b[36m\u001b[1mDataManifest \u001b[22m\u001b[39mDataset already exists at: datasets-test/download.pangaea.de/dataset/962852/files/LGM_foraminifera_assemblages_20240110.csv\n"
     ]
    },
    {
     "name": "stdout",
     "output_type": "stream",
     "text": [
      "Archive:  datasets-test/github.com/jesstierney/lgmDA/archive/refs/tags/v2.1.zip\n",
      "8eb77f20d830f5eb3d5f0064fabddd574de1e7fa\n",
      "   creating: datasets-test/github.com/jesstierney/lgmDA/archive/refs/tags/lgmDA-2.1/\n",
      "  inflating: datasets-test/github.com/jesstierney/lgmDA/archive/refs/tags/lgmDA-2.1/.gitignore  \n",
      "  inflating: datasets-test/github.com/jesstierney/lgmDA/archive/refs/tags/lgmDA-2.1/LICENSE  \n",
      "  inflating: datasets-test/github.com/jesstierney/lgmDA/archive/refs/tags/lgmDA-2.1/README.md  \n",
      "  inflating: datasets-test/github.com/jesstierney/lgmDA/archive/refs/tags/lgmDA-2.1/lgmMap.jpg  \n",
      "   creating: datasets-test/github.com/jesstierney/lgmDA/archive/refs/tags/lgmDA-2.1/proxyData/\n",
      "  inflating: datasets-test/github.com/jesstierney/lgmDA/archive/refs/tags/lgmDA-2.1/proxyData/Tierney2020_LGMProxyData.csv  \n",
      "  inflating: datasets-test/github.com/jesstierney/lgmDA/archive/refs/tags/lgmDA-2.1/proxyData/Tierney2020_LHProxyData.csv  \n",
      "  inflating: datasets-test/github.com/jesstierney/lgmDA/archive/refs/tags/lgmDA-2.1/proxyData/Tierney2020_ProxyDataPaired.csv  \n",
      "  inflating: datasets-test/github.com/jesstierney/lgmDA/archive/refs/tags/lgmDA-2.1/proxyData/Tierney2020_ProxyData_5x5_deltaSST.nc  \n",
      "   creating: datasets-test/github.com/jesstierney/lgmDA/archive/refs/tags/lgmDA-2.1/version1.0/\n",
      "  inflating: datasets-test/github.com/jesstierney/lgmDA/archive/refs/tags/lgmDA-2.1/version1.0/Tierney2020_DA_atm.nc  \n",
      "  inflating: datasets-test/github.com/jesstierney/lgmDA/archive/refs/tags/lgmDA-2.1/version1.0/Tierney2020_DA_ocn.nc  \n",
      "  inflating: datasets-test/github.com/jesstierney/lgmDA/archive/refs/tags/lgmDA-2.1/version1.0/Tierney2020_DA_ocn_regrid.nc  \n",
      "   creating: datasets-test/github.com/jesstierney/lgmDA/archive/refs/tags/lgmDA-2.1/version2.0/\n",
      "  inflating: datasets-test/github.com/jesstierney/lgmDA/archive/refs/tags/lgmDA-2.1/version2.0/lgmDA_hol_ATM_annual.nc  \n",
      "  inflating: datasets-test/github.com/jesstierney/lgmDA/archive/refs/tags/lgmDA-2.1/version2.0/lgmDA_hol_ATM_monthly_climo.nc  \n",
      "  inflating: datasets-test/github.com/jesstierney/lgmDA/archive/refs/tags/lgmDA-2.1/version2.0/lgmDA_hol_Ocn_annual.nc  \n",
      "  inflating: datasets-test/github.com/jesstierney/lgmDA/archive/refs/tags/lgmDA-2.1/version2.0/lgmDA_hol_SST_monthly_climo.nc  \n",
      "  inflating: datasets-test/github.com/jesstierney/lgmDA/archive/refs/tags/lgmDA-2.1/version2.0/lgmDA_lgm_ATM_annual.nc  \n",
      "  inflating: datasets-test/github.com/jesstierney/lgmDA/archive/refs/tags/lgmDA-2.1/version2.0/lgmDA_lgm_ATM_monthly_climo.nc  \n",
      "  inflating: datasets-test/github.com/jesstierney/lgmDA/archive/refs/tags/lgmDA-2.1/version2.0/lgmDA_lgm_Ocn_annual.nc  \n",
      "  inflating: datasets-test/github.com/jesstierney/lgmDA/archive/refs/tags/lgmDA-2.1/version2.0/lgmDA_lgm_SST_monthly_climo.nc  \n",
      "  inflating: datasets-test/github.com/jesstierney/lgmDA/archive/refs/tags/lgmDA-2.1/version2.0/lgmDAv2_README.pdf  \n",
      "   creating: datasets-test/github.com/jesstierney/lgmDA/archive/refs/tags/lgmDA-2.1/version2.1/\n",
      "  inflating: datasets-test/github.com/jesstierney/lgmDA/archive/refs/tags/lgmDA-2.1/version2.1/lgmDA_hol_ATM_annual.nc  \n",
      "  inflating: datasets-test/github.com/jesstierney/lgmDA/archive/refs/tags/lgmDA-2.1/version2.1/lgmDA_hol_ATM_monthly_climo.nc  \n",
      "  inflating: datasets-test/github.com/jesstierney/lgmDA/archive/refs/tags/lgmDA-2.1/version2.1/lgmDA_hol_Ocn_annual.nc  \n",
      "  inflating: datasets-test/github.com/jesstierney/lgmDA/archive/refs/tags/lgmDA-2.1/version2.1/lgmDA_hol_SST_monthly_climo.nc  \n",
      "  inflating: datasets-test/github.com/jesstierney/lgmDA/archive/refs/tags/lgmDA-2.1/version2.1/lgmDA_lgm_ATM_annual.nc  \n",
      "  inflating: datasets-test/github.com/jesstierney/lgmDA/archive/refs/tags/lgmDA-2.1/version2.1/lgmDA_lgm_ATM_monthly_climo.nc  \n",
      "  inflating: datasets-test/github.com/jesstierney/lgmDA/archive/refs/tags/lgmDA-2.1/version2.1/lgmDA_lgm_Ocn_annual.nc  \n",
      "  inflating: datasets-test/github.com/jesstierney/lgmDA/archive/refs/tags/lgmDA-2.1/version2.1/lgmDA_lgm_SST_monthly_climo.nc  \n",
      "  inflating: datasets-test/github.com/jesstierney/lgmDA/archive/refs/tags/lgmDA-2.1/version2.1/lgmDAv21_README.pdf  \n"
     ]
    }
   ],
   "source": [
    "download_datasets(db)"
   ]
  },
  {
   "cell_type": "code",
   "execution_count": 16,
   "metadata": {},
   "outputs": [
    {
     "data": {
      "text/plain": [
       "\"\""
      ]
     },
     "metadata": {},
     "output_type": "display_data"
    }
   ],
   "source": [
    "# db[\"CMIP6_lgm_tos\"].sha256 = \"\"\n",
    "db[\"herzschuh2023\"].sha256 = \"\""
   ]
  },
  {
   "cell_type": "code",
   "execution_count": 17,
   "metadata": {},
   "outputs": [
    {
     "name": "stdout",
     "output_type": "stream",
     "text": [
      "datasets-test\n",
      "datasets-test/albedo1.dmawi.de\n",
      "datasets-test/albedo1.dmawi.de/albedo\n",
      "datasets-test/albedo1.dmawi.de/albedo/work\n",
      "datasets-test/albedo1.dmawi.de/albedo/work/projects\n",
      "datasets-test/albedo1.dmawi.de/albedo/work/projects/p_forclima\n",
      "datasets-test/albedo1.dmawi.de/albedo/work/projects/p_forclima/preproc_data_esmvaltool\n",
      "datasets-test/albedo1.dmawi.de/albedo/work/projects/p_forclima/preproc_data_esmvaltool/LGM\n",
      "datasets-test/albedo1.dmawi.de/albedo/work/projects/p_forclima/preproc_data_esmvaltool/LGM/recipe_cmip6_lgm_tos_20241114_151009\n",
      "datasets-test/albedo1.dmawi.de/albedo/work/projects/p_forclima/preproc_data_esmvaltool/LGM/recipe_cmip6_lgm_tos_20241114_151009/preproc\n",
      "datasets-test/albedo1.dmawi.de/albedo/work/projects/p_forclima/preproc_data_esmvaltool/LGM/recipe_cmip6_lgm_tos_20241114_151009/preproc/lgm\n",
      "datasets-test/albedo1.dmawi.de/albedo/work/projects/p_forclima/preproc_data_esmvaltool/LGM/recipe_cmip6_lgm_tos_20241114_151009/preproc/lgm/tos_CLIM\n",
      "datasets-test/albedo1.dmawi.de/albedo/work/projects/p_forclima/preproc_data_esmvaltool/LGM/recipe_cmip6_lgm_tos_20241114_151009/preproc/lgm/tos_CLIM/metadata.yml\n",
      "datasets-test/albedo1.dmawi.de/albedo/work/projects/p_forclima/preproc_data_esmvaltool/LGM/recipe_cmip6_lgm_tos_20241114_151009/preproc/lgm/tos_CLIM/CMIP6_MIROC-ES2L_Omon_lgm_r1i1p1f2_tos_gr1.nc\n",
      "datasets-test/albedo1.dmawi.de/albedo/work/projects/p_forclima/preproc_data_esmvaltool/LGM/recipe_cmip6_lgm_tos_20241114_151009/preproc/lgm/tos_CLIM/CMIP6_CESM2-FV2_Omon_lgm_r1i2p2f1_tos_gn.nc\n",
      "datasets-test/albedo1.dmawi.de/albedo/work/projects/p_forclima/preproc_data_esmvaltool/LGM/recipe_cmip6_lgm_tos_20241114_151009/preproc/lgm/tos_CLIM/CMIP6_INM-CM4-8_Omon_lgm_r1i1p1f1_tos_gr1_provenance.xml\n",
      "datasets-test/albedo1.dmawi.de/albedo/work/projects/p_forclima/preproc_data_esmvaltool/LGM/recipe_cmip6_lgm_tos_20241114_151009/preproc/lgm/tos_CLIM/CMIP6_MPI-ESM1-2-LR_Omon_lgm_r1i1p1f1_tos_gn_provenance.xml\n",
      "datasets-test/albedo1.dmawi.de/albedo/work/projects/p_forclima/preproc_data_esmvaltool/LGM/recipe_cmip6_lgm_tos_20241114_151009/preproc/lgm/tos_CLIM/CMIP6_MIROC-ES2L_Omon_lgm_r1i1p1f2_tos_gr1_provenance.xml\n",
      "datasets-test/albedo1.dmawi.de/albedo/work/projects/p_forclima/preproc_data_esmvaltool/LGM/recipe_cmip6_lgm_tos_20241114_151009/preproc/lgm/tos_CLIM/CMIP6_CESM2-WACCM-FV2_Omon_lgm_r1i2p2f1_tos_gn.nc\n",
      "datasets-test/albedo1.dmawi.de/albedo/work/projects/p_forclima/preproc_data_esmvaltool/LGM/recipe_cmip6_lgm_tos_20241114_151009/preproc/lgm/tos_CLIM/CMIP6_MIROC-ES2L_Omon_lgm_r1i1p1f2_tos_gn_provenance.xml\n",
      "datasets-test/albedo1.dmawi.de/albedo/work/projects/p_forclima/preproc_data_esmvaltool/LGM/recipe_cmip6_lgm_tos_20241114_151009/preproc/lgm/tos_CLIM/CMIP6_CESM2-WACCM-FV2_Omon_lgm_r1i2p2f1_tos_gn_provenance.xml\n",
      "datasets-test/albedo1.dmawi.de/albedo/work/projects/p_forclima/preproc_data_esmvaltool/LGM/recipe_cmip6_lgm_tos_20241114_151009/preproc/lgm/tos_CLIM/CMIP6_MPI-ESM1-2-LR_Omon_lgm_r1i1p1f1_tos_gn.nc\n",
      "datasets-test/albedo1.dmawi.de/albedo/work/projects/p_forclima/preproc_data_esmvaltool/LGM/recipe_cmip6_lgm_tos_20241114_151009/preproc/lgm/tos_CLIM/CMIP6_MIROC-ES2L_Omon_lgm_r1i1p1f2_tos_gn.nc\n",
      "datasets-test/albedo1.dmawi.de/albedo/work/projects/p_forclima/preproc_data_esmvaltool/LGM/recipe_cmip6_lgm_tos_20241114_151009/preproc/lgm/tos_CLIM/CMIP6_AWI-ESM-1-1-LR_Omon_lgm_r1i1p1f1_tos_gn.nc\n",
      "datasets-test/albedo1.dmawi.de/albedo/work/projects/p_forclima/preproc_data_esmvaltool/LGM/recipe_cmip6_lgm_tos_20241114_151009/preproc/lgm/tos_CLIM/CMIP6_AWI-ESM-1-1-LR_Omon_lgm_r1i1p1f1_tos_gn_provenance.xml\n",
      "datasets-test/albedo1.dmawi.de/albedo/work/projects/p_forclima/preproc_data_esmvaltool/LGM/recipe_cmip6_lgm_tos_20241114_151009/preproc/lgm/tos_CLIM/CMIP6_INM-CM4-8_Omon_lgm_r1i1p1f1_tos_gr1.nc\n",
      "datasets-test/albedo1.dmawi.de/albedo/work/projects/p_forclima/preproc_data_esmvaltool/LGM/recipe_cmip6_lgm_tos_20241114_151009/preproc/lgm/tos_CLIM/CMIP6_CESM2-FV2_Omon_lgm_r1i2p2f1_tos_gn_provenance.xml\n",
      "datasets-test/doi.pangaea.de\n",
      "datasets-test/doi.pangaea.de/10.1594\n",
      "datasets-test/doi.pangaea.de/10.1594/PANGAEA.930512\n",
      "datasets-test/download.pangaea.de\n",
      "datasets-test/download.pangaea.de/dataset\n",
      "datasets-test/download.pangaea.de/dataset/962852\n",
      "datasets-test/download.pangaea.de/dataset/962852/files\n",
      "datasets-test/download.pangaea.de/dataset/962852/files/LGM_foraminifera_assemblages_20240110.csv\n",
      "datasets-test/github.com\n",
      "datasets-test/github.com/jesstierney\n",
      "datasets-test/github.com/jesstierney/lgmDA\n",
      "datasets-test/github.com/jesstierney/lgmDA/archive\n",
      "datasets-test/github.com/jesstierney/lgmDA/archive/refs\n",
      "datasets-test/github.com/jesstierney/lgmDA/archive/refs/tags\n",
      "datasets-test/github.com/jesstierney/lgmDA/archive/refs/tags/lgmDA-2.1\n",
      "datasets-test/github.com/jesstierney/lgmDA/archive/refs/tags/lgmDA-2.1/version2.0\n",
      "datasets-test/github.com/jesstierney/lgmDA/archive/refs/tags/lgmDA-2.1/version2.0/lgmDA_lgm_ATM_monthly_climo.nc\n",
      "datasets-test/github.com/jesstierney/lgmDA/archive/refs/tags/lgmDA-2.1/version2.0/lgmDA_lgm_Ocn_annual.nc\n",
      "datasets-test/github.com/jesstierney/lgmDA/archive/refs/tags/lgmDA-2.1/version2.0/lgmDAv2_README.pdf\n",
      "datasets-test/github.com/jesstierney/lgmDA/archive/refs/tags/lgmDA-2.1/version2.0/lgmDA_lgm_SST_monthly_climo.nc\n",
      "datasets-test/github.com/jesstierney/lgmDA/archive/refs/tags/lgmDA-2.1/version2.0/lgmDA_hol_Ocn_annual.nc\n",
      "datasets-test/github.com/jesstierney/lgmDA/archive/refs/tags/lgmDA-2.1/version2.0/lgmDA_lgm_ATM_annual.nc\n",
      "datasets-test/github.com/jesstierney/lgmDA/archive/refs/tags/lgmDA-2.1/version2.0/lgmDA_hol_SST_monthly_climo.nc\n",
      "datasets-test/github.com/jesstierney/lgmDA/archive/refs/tags/lgmDA-2.1/version2.0/lgmDA_hol_ATM_annual.nc\n",
      "datasets-test/github.com/jesstierney/lgmDA/archive/refs/tags/lgmDA-2.1/version2.0/lgmDA_hol_ATM_monthly_climo.nc\n",
      "datasets-test/github.com/jesstierney/lgmDA/archive/refs/tags/lgmDA-2.1/LICENSE\n",
      "datasets-test/github.com/jesstierney/lgmDA/archive/refs/tags/lgmDA-2.1/proxyData\n",
      "datasets-test/github.com/jesstierney/lgmDA/archive/refs/tags/lgmDA-2.1/proxyData/Tierney2020_LGMProxyData.csv\n",
      "datasets-test/github.com/jesstierney/lgmDA/archive/refs/tags/lgmDA-2.1/proxyData/Tierney2020_LHProxyData.csv\n",
      "datasets-test/github.com/jesstierney/lgmDA/archive/refs/tags/lgmDA-2.1/proxyData/Tierney2020_ProxyData_5x5_deltaSST.nc\n",
      "datasets-test/github.com/jesstierney/lgmDA/archive/refs/tags/lgmDA-2.1/proxyData/Tierney2020_ProxyDataPaired.csv\n",
      "datasets-test/github.com/jesstierney/lgmDA/archive/refs/tags/lgmDA-2.1/version1.0\n",
      "datasets-test/github.com/jesstierney/lgmDA/archive/refs/tags/lgmDA-2.1/version1.0/Tierney2020_DA_ocn_regrid.nc\n",
      "datasets-test/github.com/jesstierney/lgmDA/archive/refs/tags/lgmDA-2.1/version1.0/Tierney2020_DA_ocn.nc\n",
      "datasets-test/github.com/jesstierney/lgmDA/archive/refs/tags/lgmDA-2.1/version1.0/Tierney2020_DA_atm.nc\n",
      "datasets-test/github.com/jesstierney/lgmDA/archive/refs/tags/lgmDA-2.1/lgmMap.jpg\n",
      "datasets-test/github.com/jesstierney/lgmDA/archive/refs/tags/lgmDA-2.1/.gitignore\n",
      "datasets-test/github.com/jesstierney/lgmDA/archive/refs/tags/lgmDA-2.1/version2.1\n",
      "datasets-test/github.com/jesstierney/lgmDA/archive/refs/tags/lgmDA-2.1/version2.1/lgmDA_lgm_ATM_monthly_climo.nc\n",
      "datasets-test/github.com/jesstierney/lgmDA/archive/refs/tags/lgmDA-2.1/version2.1/lgmDA_lgm_Ocn_annual.nc\n",
      "datasets-test/github.com/jesstierney/lgmDA/archive/refs/tags/lgmDA-2.1/version2.1/lgmDA_lgm_SST_monthly_climo.nc\n",
      "datasets-test/github.com/jesstierney/lgmDA/archive/refs/tags/lgmDA-2.1/version2.1/lgmDA_hol_Ocn_annual.nc\n",
      "datasets-test/github.com/jesstierney/lgmDA/archive/refs/tags/lgmDA-2.1/version2.1/lgmDA_lgm_ATM_annual.nc\n",
      "datasets-test/github.com/jesstierney/lgmDA/archive/refs/tags/lgmDA-2.1/version2.1/lgmDAv21_README.pdf\n",
      "datasets-test/github.com/jesstierney/lgmDA/archive/refs/tags/lgmDA-2.1/version2.1/lgmDA_hol_SST_monthly_climo.nc\n",
      "datasets-test/github.com/jesstierney/lgmDA/archive/refs/tags/lgmDA-2.1/version2.1/lgmDA_hol_ATM_annual.nc\n",
      "datasets-test/github.com/jesstierney/lgmDA/archive/refs/tags/lgmDA-2.1/version2.1/lgmDA_hol_ATM_monthly_climo.nc\n",
      "datasets-test/github.com/jesstierney/lgmDA/archive/refs/tags/lgmDA-2.1/README.md\n",
      "datasets-test/github.com/jesstierney/lgmDA/archive/refs/tags/v2.1.zip\n"
     ]
    },
    {
     "data": {
      "text/plain": [
       "Process(`\u001b[4mfind\u001b[24m \u001b[4mdatasets-test\u001b[24m`, ProcessExited(0))"
      ]
     },
     "metadata": {},
     "output_type": "display_data"
    }
   ],
   "source": [
    "run(`find datasets-test`)"
   ]
  }
 ],
 "metadata": {
  "kernelspec": {
   "display_name": "Julia 1.11.5",
   "language": "julia",
   "name": "julia-1.11"
  },
  "language_info": {
   "file_extension": ".jl",
   "mimetype": "application/julia",
   "name": "julia",
   "version": "1.11.5"
  }
 },
 "nbformat": 4,
 "nbformat_minor": 2
}
