{
 "cells": [
  {
   "cell_type": "code",
   "execution_count": 1,
   "metadata": {},
   "outputs": [
    {
     "name": "stderr",
     "output_type": "stream",
     "text": [
      "\u001b[32m\u001b[1m  Activating\u001b[22m\u001b[39m project at `~/Projects/DataManifest.jl`\n"
     ]
    }
   ],
   "source": [
    "# using Revise\n",
    "using Pkg\n",
    "Pkg.activate(\".\")\n",
    "using DataManifest"
   ]
  },
  {
   "cell_type": "code",
   "execution_count": 2,
   "metadata": {},
   "outputs": [
    {
     "data": {
      "text/plain": [
       "Database(\n",
       "  datasets=Dict(\n",
       "  ),\n",
       "  datasets_folder=\"/home/perrette/.cache/Datasets\"\n",
       "  datasets_toml=\"example.toml\"\n",
       ")"
      ]
     },
     "metadata": {},
     "output_type": "display_data"
    }
   ],
   "source": [
    "db = Database(\"example.toml\")"
   ]
  },
  {
   "cell_type": "code",
   "execution_count": 3,
   "metadata": {},
   "outputs": [
    {
     "data": {
      "text/plain": [
       "Database(\n",
       "  datasets=Dict(\n",
       "  ),\n",
       "  datasets_folder=\"datasets-test\"\n",
       "  datasets_toml=\"\" (in-memory database)\n",
       ")"
      ]
     },
     "metadata": {},
     "output_type": "display_data"
    }
   ],
   "source": [
    "db = Database(datasets_folder=\"datasets-test\", persist=false)\n",
    "rm(\"datasets-test\"; force=true, recursive=true)\n",
    "db"
   ]
  },
  {
   "cell_type": "code",
   "execution_count": 4,
   "metadata": {},
   "outputs": [
    {
     "name": "stdout",
     "output_type": "stream",
     "text": [
      "Database:\n",
      "- CMIP6_lgm_tos => albedo1.dmawi.de/albedo/work/projects/p_forclima/preproc_data...\n",
      "- herzschuh2023 => doi.pangaea.de/10.1594/PANGAEA.930512\n",
      "- jonkers2024 => download.pangaea.de/dataset/962852/files/LGM_foraminifera_assem...\n",
      "- jesstierney/lgmDA => github.com/jesstierney/lgmDA.git\n",
      "datasets_folder: datasets-test\n",
      "datasets_toml: \"\" (in-memory database)\n"
     ]
    }
   ],
   "source": [
    "register_dataset(db, \"https://doi.pangaea.de/10.1594/PANGAEA.930512?format=zip\";\n",
    "    name=\"herzschuh2023\",\n",
    "    doi=\"10.1594/PANGAEA.930512\",\n",
    ")\n",
    "\n",
    "register_dataset(db, \"https://download.pangaea.de/dataset/962852/files/LGM_foraminifera_assemblages_20240110.csv\";\n",
    "    name=\"jonkers2024\",\n",
    "    doi=\"10.1594/PANGAEA.962852\",\n",
    ")\n",
    "\n",
    "register_dataset(db, \"git@github.com:jesstierney/lgmDA.git\")\n",
    "\n",
    "register_dataset(db, \"ssh://albedo1.dmawi.de:/albedo/work/projects/p_forclima/preproc_data_esmvaltool/LGM/recipe_cmip6_lgm_tos_20241114_151009/preproc/lgm/tos_CLIM\"; name=\"CMIP6_lgm_tos\")\n",
    "\n",
    "println(db)"
   ]
  },
  {
   "cell_type": "code",
   "execution_count": 5,
   "metadata": {},
   "outputs": [
    {
     "data": {
      "text/plain": [
       "Database(\n",
       "  datasets=Dict(\n",
       "    CMIP6_lgm_tos => DatasetEntry(uri=\"ssh:/albedo1.dmawi.de:/albedo/work/projects...),\n",
       "    herzschuh2023 => DatasetEntry(uri=\"https:/doi.pangaea.de/10.1594...),\n",
       "    jonkers2024 => DatasetEntry(uri=\"https:/download.pangaea.de/dataset/962852/files...),\n",
       "    jesstierney/lgmDA => DatasetEntry(uri=\"git@github.com:jesstierney/lgmDA.git\"...),\n",
       "  ),\n",
       "  datasets_folder=\"datasets-test\"\n",
       "  datasets_toml=\"\" (in-memory database)\n",
       ")"
      ]
     },
     "metadata": {},
     "output_type": "display_data"
    }
   ],
   "source": [
    "db"
   ]
  },
  {
   "cell_type": "code",
   "execution_count": 6,
   "metadata": {},
   "outputs": [
    {
     "data": {
      "text/plain": [
       "DatasetEntry(uri=\"git@github.com:jesstierney...)"
      ]
     },
     "metadata": {},
     "output_type": "display_data"
    }
   ],
   "source": [
    "db.datasets[\"jesstierney/lgmDA\"]"
   ]
  },
  {
   "cell_type": "code",
   "execution_count": 7,
   "metadata": {},
   "outputs": [
    {
     "data": {
      "text/plain": [
       "(\"datasets-test/doi.pangaea.de/10.1594/PANGAEA.930512\", \"datasets-test\", DatasetEntry:\n",
       "- uri=https://doi.pangaea.de/10.1594/PANGAEA.930512?format=zip\n",
       "- doi=10.1594/PANGAEA.930512)"
      ]
     },
     "metadata": {},
     "output_type": "display_data"
    }
   ],
   "source": [
    "get_dataset_path(db, \"herzschuh2023\"), db.datasets_folder, db.datasets[\"herzschuh2023\"]"
   ]
  },
  {
   "cell_type": "code",
   "execution_count": 8,
   "metadata": {},
   "outputs": [
    {
     "name": "stdout",
     "output_type": "stream",
     "text": [
      "DatasetEntry:\n",
      "- uri=https://doi.pangaea.de/10.1594/PANGAEA.930512?format=zip\n",
      "- doi=10.1594/PANGAEA.930512\n",
      "doi.pangaea.de/10.1594/PANGAEA.930512\n",
      "DatasetEntry(uri=\"https:/doi.pangaea.de/10.1594..., doi=\"10.1594/PANGAEA.930512\")\n",
      "DatasetEntry(uri=\"https:/doi.pangaea.de/10.1594...)\n"
     ]
    },
    {
     "data": {
      "text/plain": [
       "DatasetEntry(uri=\"https:/doi.pangaea.de/10.1594..., doi=\"10.1594/PANGAEA.930512\")"
      ]
     },
     "metadata": {},
     "output_type": "display_data"
    }
   ],
   "source": [
    "println(string(db.datasets[\"herzschuh2023\"]))\n",
    "println(string_short(db.datasets[\"herzschuh2023\"]))\n",
    "println(repr(db.datasets[\"herzschuh2023\"]))\n",
    "println(repr_short(db.datasets[\"herzschuh2023\"]))\n",
    "db.datasets[\"herzschuh2023\"]"
   ]
  },
  {
   "cell_type": "code",
   "execution_count": 9,
   "metadata": {},
   "outputs": [
    {
     "name": "stdout",
     "output_type": "stream",
     "text": [
      "Database:\n",
      "- CMIP6_lgm_tos => albedo1.dmawi.de/albedo/work/projects/p_forclima/preproc_data...\n",
      "- herzschuh2023 => doi.pangaea.de/10.1594/PANGAEA.930512\n",
      "- jonkers2024 => download.pangaea.de/dataset/962852/files/LGM_foraminifera_assem...\n",
      "- jesstierney/lgmDA => github.com/jesstierney/lgmDA.git\n",
      "datasets_folder: datasets-test\n",
      "datasets_toml: \"\" (in-memory database)\n"
     ]
    },
    {
     "data": {
      "text/plain": [
       "Database(\n",
       "  datasets=Dict(\n",
       "    CMIP6_lgm_tos => DatasetEntry(uri=\"ssh:/albedo1.dmawi.de:/albedo/work/projects...),\n",
       "    herzschuh2023 => DatasetEntry(uri=\"https:/doi.pangaea.de/10.1594...),\n",
       "    jonkers2024 => DatasetEntry(uri=\"https:/download.pangaea.de/dataset/962852/files...),\n",
       "    jesstierney/lgmDA => DatasetEntry(uri=\"git@github.com:jesstierney/lgmDA.git\"...),\n",
       "  ),\n",
       "  datasets_folder=\"datasets-test\"\n",
       "  datasets_toml=\"\" (in-memory database)\n",
       ")"
      ]
     },
     "metadata": {},
     "output_type": "display_data"
    }
   ],
   "source": [
    "println(string(db))\n",
    "db"
   ]
  },
  {
   "cell_type": "code",
   "execution_count": 10,
   "metadata": {},
   "outputs": [
    {
     "name": "stdout",
     "output_type": "stream",
     "text": [
      "[CMIP6_lgm_tos]\n",
      "uri = \"ssh://albedo1.dmawi.de:/albedo/work/projects/p_forclima/preproc_data_esmvaltool/LGM/recipe_cmip6_lgm_tos_20241114_151009/preproc/lgm/tos_CLIM\"\n",
      "\n",
      "[herzschuh2023]\n",
      "uri = \"https://doi.pangaea.de/10.1594/PANGAEA.930512?format=zip\"\n",
      "doi = \"10.1594/PANGAEA.930512\"\n",
      "\n",
      "[jonkers2024]\n",
      "uri = \"https://download.pangaea.de/dataset/962852/files/LGM_foraminifera_assemblages_20240110.csv\"\n",
      "doi = \"10.1594/PANGAEA.962852\"\n",
      "\n",
      "[\"jesstierney/lgmDA\"]\n",
      "uri = \"git@github.com:jesstierney/lgmDA.git\"\n"
     ]
    }
   ],
   "source": [
    "import TOML\n",
    "TOML.print(db)"
   ]
  },
  {
   "cell_type": "code",
   "execution_count": 11,
   "metadata": {},
   "outputs": [],
   "source": [
    "write(db, \"test.toml\")"
   ]
  },
  {
   "cell_type": "code",
   "execution_count": 12,
   "metadata": {},
   "outputs": [
    {
     "name": "stdout",
     "output_type": "stream",
     "text": [
      "[CMIP6_lgm_tos]\n",
      "uri = \"ssh://albedo1.dmawi.de:/albedo/work/projects/p_forclima/preproc_data_esmvaltool/LGM/recipe_cmip6_lgm_tos_20241114_151009/preproc/lgm/tos_CLIM\"\n",
      "\n",
      "[herzschuh2023]\n",
      "uri = \"https://doi.pangaea.de/10.1594/PANGAEA.930512?format=zip\"\n",
      "doi = \"10.1594/PANGAEA.930512\"\n",
      "\n",
      "[jonkers2024]\n",
      "uri = \"https://download.pangaea.de/dataset/962852/files/LGM_foraminifera_assemblages_20240110.csv\"\n",
      "doi = \"10.1594/PANGAEA.962852\"\n",
      "\n",
      "[\"jesstierney/lgmDA\"]\n",
      "uri = \"git@github.com:jesstierney/lgmDA.git\"\n"
     ]
    }
   ],
   "source": [
    "run(`cat test.toml`);"
   ]
  },
  {
   "cell_type": "code",
   "execution_count": 13,
   "metadata": {},
   "outputs": [
    {
     "data": {
      "text/plain": [
       "false"
      ]
     },
     "metadata": {},
     "output_type": "display_data"
    }
   ],
   "source": [
    "other = read(\"test.toml\", \"datasets-test\")\n",
    "other == db"
   ]
  },
  {
   "cell_type": "code",
   "execution_count": 14,
   "metadata": {},
   "outputs": [
    {
     "ename": "Downloads.RequestError",
     "evalue": "RequestError: HTTP/2 500 while requesting https://download.pangaea.de/dataset/962852/files/LGM_foraminifera_assemblages_20240110.csv",
     "output_type": "error",
     "traceback": [
      "RequestError: HTTP/2 500 while requesting https://download.pangaea.de/dataset/962852/files/LGM_foraminifera_assemblages_20240110.csv\n",
      "\n",
      "Stacktrace:\n",
      "  [1] #3\n",
      "    @ ~/.julia/juliaup/julia-1.11.5+0.x64.linux.gnu/share/julia/stdlib/v1.11/Downloads/src/Downloads.jl:271 [inlined]\n",
      "  [2] open(f::Downloads.var\"#3#4\"{Nothing, Vector{Pair{String, String}}, Float64, Nothing, Bool, Nothing, Nothing, String}, args::String; kwargs::@Kwargs{write::Bool, lock::Bool})\n",
      "    @ Base ./io.jl:410\n",
      "  [3] open_nolock\n",
      "    @ ~/.julia/juliaup/julia-1.11.5+0.x64.linux.gnu/share/julia/stdlib/v1.11/ArgTools/src/ArgTools.jl:35 [inlined]\n",
      "  [4] arg_write(f::Function, arg::String)\n",
      "    @ ArgTools ~/.julia/juliaup/julia-1.11.5+0.x64.linux.gnu/share/julia/stdlib/v1.11/ArgTools/src/ArgTools.jl:103\n",
      "  [5] #download#2\n",
      "    @ ~/.julia/juliaup/julia-1.11.5+0.x64.linux.gnu/share/julia/stdlib/v1.11/Downloads/src/Downloads.jl:258 [inlined]\n",
      "  [6] download\n",
      "    @ ~/.julia/juliaup/julia-1.11.5+0.x64.linux.gnu/share/julia/stdlib/v1.11/Downloads/src/Downloads.jl:247 [inlined]\n",
      "  [7] download_dataset(db::Database, dataset::DatasetEntry; extract::Bool)\n",
      "    @ DataManifest ~/Projects/DataManifest.jl/src/DataManifest.jl:551\n",
      "  [8] download_dataset\n",
      "    @ ~/Projects/DataManifest.jl/src/DataManifest.jl:508 [inlined]\n",
      "  [9] download_dataset(db::Database, name::String; extract::Bool, kwargs::@Kwargs{})\n",
      "    @ DataManifest ~/Projects/DataManifest.jl/src/DataManifest.jl:570\n",
      " [10] download_dataset(db::Database, name::String)\n",
      "    @ DataManifest ~/Projects/DataManifest.jl/src/DataManifest.jl:563\n",
      " [11] top-level scope\n",
      "    @ ~/Projects/DataManifest.jl/jl_notebook_cell_df34fa98e69747e1a8f8a730347b8e2f_X16sZmlsZQ==.jl:1"
     ]
    }
   ],
   "source": [
    "local_path = download_dataset(db, \"jonkers2024\") # will download only if not present"
   ]
  },
  {
   "cell_type": "code",
   "execution_count": 15,
   "metadata": {},
   "outputs": [
    {
     "name": "stderr",
     "output_type": "stream",
     "text": [
      "ssh: Could not resolve hostname albedo1.dmawi.de: Name or service not known\n",
      "rsync: connection unexpectedly closed (0 bytes received so far) [Receiver]\n",
      "rsync error: unexplained error (code 255) at io.c(232) [Receiver=3.2.7]\n"
     ]
    },
    {
     "ename": "ProcessFailedException",
     "evalue": "failed process: Process(`rsync -arvzL albedo1.dmawi.de:/albedo/work/projects/p_forclima/preproc_data_esmvaltool/LGM/recipe_cmip6_lgm_tos_20241114_151009/preproc/lgm/tos_CLIM datasets-test/albedo1.dmawi.de/albedo/work/projects/p_forclima/preproc_data_esmvaltool/LGM/recipe_cmip6_lgm_tos_20241114_151009/preproc/lgm/`, ProcessExited(255)) [255]\n",
     "output_type": "error",
     "traceback": [
      "failed process: Process(`rsync -arvzL albedo1.dmawi.de:/albedo/work/projects/p_forclima/preproc_data_esmvaltool/LGM/recipe_cmip6_lgm_tos_20241114_151009/preproc/lgm/tos_CLIM datasets-test/albedo1.dmawi.de/albedo/work/projects/p_forclima/preproc_data_esmvaltool/LGM/recipe_cmip6_lgm_tos_20241114_151009/preproc/lgm/`, ProcessExited(255)) [255]\n",
      "\n",
      "\n",
      "Stacktrace:\n",
      "  [1] pipeline_error\n",
      "    @ ./process.jl:598 [inlined]\n",
      "  [2] run(::Cmd; wait::Bool)\n",
      "    @ Base ./process.jl:513\n",
      "  [3] run\n",
      "    @ ./process.jl:510 [inlined]\n",
      "  [4] download_dataset(db::Database, dataset::DatasetEntry; extract::Bool)\n",
      "    @ DataManifest ~/Projects/DataManifest.jl/src/DataManifest.jl:543\n",
      "  [5] download_dataset\n",
      "    @ ~/Projects/DataManifest.jl/src/DataManifest.jl:508 [inlined]\n",
      "  [6] download_dataset(db::Database, name::String; extract::Bool, kwargs::@Kwargs{})\n",
      "    @ DataManifest ~/Projects/DataManifest.jl/src/DataManifest.jl:570\n",
      "  [7] download_dataset\n",
      "    @ ~/Projects/DataManifest.jl/src/DataManifest.jl:563 [inlined]\n",
      "  [8] download_datasets(db::Database, names::Nothing; kwargs::@Kwargs{})\n",
      "    @ DataManifest ~/Projects/DataManifest.jl/src/DataManifest.jl:580\n",
      "  [9] download_datasets\n",
      "    @ ~/Projects/DataManifest.jl/src/DataManifest.jl:574 [inlined]\n",
      " [10] download_datasets(db::Database)\n",
      "    @ DataManifest ~/Projects/DataManifest.jl/src/DataManifest.jl:574\n",
      " [11] top-level scope\n",
      "    @ ~/Projects/DataManifest.jl/jl_notebook_cell_df34fa98e69747e1a8f8a730347b8e2f_X20sZmlsZQ==.jl:1"
     ]
    }
   ],
   "source": [
    "download_datasets(db)"
   ]
  },
  {
   "cell_type": "code",
   "execution_count": 16,
   "metadata": {},
   "outputs": [
    {
     "name": "stdout",
     "output_type": "stream",
     "text": [
      "datasets-test\n",
      "datasets-test/albedo1.dmawi.de\n",
      "datasets-test/albedo1.dmawi.de/albedo\n",
      "datasets-test/albedo1.dmawi.de/albedo/work\n",
      "datasets-test/albedo1.dmawi.de/albedo/work/projects\n",
      "datasets-test/albedo1.dmawi.de/albedo/work/projects/p_forclima\n",
      "datasets-test/albedo1.dmawi.de/albedo/work/projects/p_forclima/preproc_data_esmvaltool\n",
      "datasets-test/albedo1.dmawi.de/albedo/work/projects/p_forclima/preproc_data_esmvaltool/LGM\n",
      "datasets-test/albedo1.dmawi.de/albedo/work/projects/p_forclima/preproc_data_esmvaltool/LGM/recipe_cmip6_lgm_tos_20241114_151009\n",
      "datasets-test/albedo1.dmawi.de/albedo/work/projects/p_forclima/preproc_data_esmvaltool/LGM/recipe_cmip6_lgm_tos_20241114_151009/preproc\n",
      "datasets-test/albedo1.dmawi.de/albedo/work/projects/p_forclima/preproc_data_esmvaltool/LGM/recipe_cmip6_lgm_tos_20241114_151009/preproc/lgm\n",
      "datasets-test/download.pangaea.de\n",
      "datasets-test/download.pangaea.de/dataset\n",
      "datasets-test/download.pangaea.de/dataset/962852\n",
      "datasets-test/download.pangaea.de/dataset/962852/files\n"
     ]
    },
    {
     "data": {
      "text/plain": [
       "Process(`\u001b[4mfind\u001b[24m \u001b[4mdatasets-test\u001b[24m`, ProcessExited(0))"
      ]
     },
     "metadata": {},
     "output_type": "display_data"
    }
   ],
   "source": [
    "run(`find datasets-test`)"
   ]
  }
 ],
 "metadata": {
  "kernelspec": {
   "display_name": "Julia 1.11.5",
   "language": "julia",
   "name": "julia-1.11"
  },
  "language_info": {
   "file_extension": ".jl",
   "mimetype": "application/julia",
   "name": "julia",
   "version": "1.11.5"
  }
 },
 "nbformat": 4,
 "nbformat_minor": 2
}
