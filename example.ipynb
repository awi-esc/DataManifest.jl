{
 "cells": [
  {
   "cell_type": "code",
   "execution_count": null,
   "metadata": {},
   "outputs": [],
   "source": [
    "# using Revise\n",
    "using Pkg\n",
    "Pkg.activate(\".\")\n",
    "using DataManifest: Database, DatasetEntry, register_dataset, download_dataset, download_datasets, string_short, repr_short, get_dataset_path"
   ]
  },
  {
   "cell_type": "code",
   "execution_count": null,
   "metadata": {},
   "outputs": [],
   "source": [
    "Database(\"example.toml\")"
   ]
  },
  {
   "cell_type": "code",
   "execution_count": null,
   "metadata": {},
   "outputs": [],
   "source": [
    "db = Database(datasets_path=\"datasets-test\")\n",
    "rm(\"datasets-test\"; force=true, recursive=true)\n",
    "db"
   ]
  },
  {
   "cell_type": "code",
   "execution_count": null,
   "metadata": {},
   "outputs": [],
   "source": [
    "register_dataset(db, \"https://doi.pangaea.de/10.1594/PANGAEA.930512?format=zip\";\n",
    "    name=\"herzschuh2023\",\n",
    "    doi=\"10.1594/PANGAEA.930512\",\n",
    ")\n",
    "\n",
    "register_dataset(db, \"https://download.pangaea.de/dataset/962852/files/LGM_foraminifera_assemblages_20240110.csv\";\n",
    "    name=\"jonkers2024\",\n",
    "    doi=\"10.1594/PANGAEA.962852\",\n",
    ")\n",
    "\n",
    "register_dataset(db, \"git@github.com:jesstierney/lgmDA.git\")\n",
    "\n",
    "register_dataset(db, \"ssh://albedo1.dmawi.de:/albedo/work/projects/p_forclima/preproc_data_esmvaltool/LGM/recipe_cmip6_lgm_tos_20241114_151009/preproc/lgm/tos_CLIM\"; name=\"CMIP6_lgm_tos\")\n",
    "\n",
    "println(db)"
   ]
  },
  {
   "cell_type": "code",
   "execution_count": null,
   "metadata": {},
   "outputs": [],
   "source": [
    "db"
   ]
  },
  {
   "cell_type": "code",
   "execution_count": null,
   "metadata": {},
   "outputs": [],
   "source": [
    "db.datasets[\"jesstierney/lgmDA\"]"
   ]
  },
  {
   "cell_type": "code",
   "execution_count": null,
   "metadata": {},
   "outputs": [],
   "source": [
    "get_dataset_path(db, \"herzschuh2023\"), db.datasets_path, db.datasets[\"herzschuh2023\"]"
   ]
  },
  {
   "cell_type": "code",
   "execution_count": null,
   "metadata": {},
   "outputs": [],
   "source": [
    "println(string(db.datasets[\"herzschuh2023\"]))\n",
    "println(string_short(db.datasets[\"herzschuh2023\"]))\n",
    "println(repr(db.datasets[\"herzschuh2023\"]))\n",
    "println(repr_short(db.datasets[\"herzschuh2023\"]))\n",
    "db.datasets[\"herzschuh2023\"]"
   ]
  },
  {
   "cell_type": "code",
   "execution_count": null,
   "metadata": {},
   "outputs": [],
   "source": [
    "println(string(db))\n",
    "db"
   ]
  },
  {
   "cell_type": "code",
   "execution_count": null,
   "metadata": {},
   "outputs": [],
   "source": [
    "import TOML\n",
    "TOML.print(db)"
   ]
  },
  {
   "cell_type": "code",
   "execution_count": null,
   "metadata": {},
   "outputs": [],
   "source": [
    "write(db, \"test.toml\")"
   ]
  },
  {
   "cell_type": "code",
   "execution_count": null,
   "metadata": {},
   "outputs": [],
   "source": [
    "run(`cat test.toml`);"
   ]
  },
  {
   "cell_type": "code",
   "execution_count": null,
   "metadata": {},
   "outputs": [],
   "source": [
    "other = read(\"test.toml\", \"datasets-test\")\n",
    "other == db"
   ]
  },
  {
   "cell_type": "code",
   "execution_count": null,
   "metadata": {},
   "outputs": [],
   "source": [
    "folder = download_dataset(db, \"jonkers2024\") # will download only if not present"
   ]
  },
  {
   "cell_type": "code",
   "execution_count": null,
   "metadata": {},
   "outputs": [],
   "source": [
    "download_datasets(db)"
   ]
  },
  {
   "cell_type": "code",
   "execution_count": null,
   "metadata": {},
   "outputs": [],
   "source": [
    "run(`find datasets-test`)"
   ]
  }
 ],
 "metadata": {
  "kernelspec": {
   "display_name": "Julia 1.11.5",
   "language": "julia",
   "name": "julia-1.11"
  },
  "language_info": {
   "file_extension": ".jl",
   "mimetype": "application/julia",
   "name": "julia",
   "version": "1.11.5"
  }
 },
 "nbformat": 4,
 "nbformat_minor": 2
}
